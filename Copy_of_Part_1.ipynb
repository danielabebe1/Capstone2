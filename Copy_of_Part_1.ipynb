{
  "nbformat": 4,
  "nbformat_minor": 0,
  "metadata": {
    "kernelspec": {
      "display_name": "Python 3",
      "language": "python",
      "name": "python3"
    },
    "language_info": {
      "codemirror_mode": {
        "name": "ipython",
        "version": 3
      },
      "file_extension": ".py",
      "mimetype": "text/x-python",
      "name": "python",
      "nbconvert_exporter": "python",
      "pygments_lexer": "ipython3",
      "version": "3.7.7"
    },
    "colab": {
      "name": "Copy of Part-1.ipynb",
      "provenance": [],
      "collapsed_sections": [
        "1pBIPbSwnHjN",
        "8PK4hdDinSR4"
      ],
      "toc_visible": true,
      "machine_shape": "hm",
      "include_colab_link": true
    }
  },
  "cells": [
    {
      "cell_type": "markdown",
      "metadata": {
        "id": "view-in-github",
        "colab_type": "text"
      },
      "source": [
        "<a href=\"https://colab.research.google.com/github/danielabebe1/Capstone2/blob/master/Copy_of_Part_1.ipynb\" target=\"_parent\"><img src=\"https://colab.research.google.com/assets/colab-badge.svg\" alt=\"Open In Colab\"/></a>"
      ]
    },
    {
      "cell_type": "markdown",
      "metadata": {
        "id": "ZNrWmOqjC_tU",
        "colab_type": "text"
      },
      "source": [
        "# Capstone Project I"
      ]
    },
    {
      "cell_type": "markdown",
      "metadata": {
        "id": "tur5lZpTDBwP",
        "colab_type": "text"
      },
      "source": [
        "## Predicting Pain Relievers Based on Age and Satisfaction Level"
      ]
    },
    {
      "cell_type": "markdown",
      "metadata": {
        "id": "WoouTxEiDRDf",
        "colab_type": "text"
      },
      "source": [
        "Both prescribed and non-prescribed use of pain relievers, as well as rates of opioid-related mortality and admissions to emergency departments, have increased in the last few years. There is no exact figure on how many people are affected by this problem but the number has increased according to ‘National Center for Biotechnology Information’. There are many different pain relievers, and each one has advantages and risks. Some types of pain respond better to certain medicines than others. Each person has a different response to a pain reliever for the same type of condition. This is mainly because the conditions that cause pain are very complicated, which is one of the reasons why pain management is so difficult. This difficulty decreases the quality of life of patients that, in many cases, can suffer from constant pain with little to no relief. General-purpose pain-relieving medication is often ineffective even the best painkiller like morphine can sometimes fail to inhibit pain in cancer patients. Painkillers are working by activating a receptor cell call REV_ERBs that sends chemical signals inside the cell to block the production of certain genes regulates pain-causing and inflammatory molecules inside the body. The goal of this project is to build a model that can predict painkiller selected conditions and for different age groups. \n",
        "The possible stakeholders of this project includes pharmaceutical companies, physicians and clinicians, insurance companies and patients. Knowing the consumers’ response for the product is crucial in many majors in addition to the available research and development in the field will help physicians and clinicians while subscribing to these drugs. Pharmaceutical companies and insurance companies will also identify their focus drugs for their consumers. \n",
        "The dataset used in this project was acquired from kaggle where uploaded on kaggle by scraping the WebMD site (https://www.kaggle.com/rohanharode07/webmd-drug-reviews-dataset). The dataset provides user reviews on specific drugs along with related conditions, side effects, age, sex, and ratings reflecting overall patient satisfaction. The dataset contains 12 features with mixed variables including categorical, numerical and date. There are above 360 thousands of rows of unique reviews and are updated till Mar 2020.\n"
      ]
    },
    {
      "cell_type": "code",
      "metadata": {
        "id": "9X4k8qgKwC-c",
        "colab_type": "code",
        "colab": {}
      },
      "source": [
        "#Importing the relevant libraries and load the data into the data frameles\n",
        "import numpy as np\n",
        "import pandas as pd\n",
        "import statsmodels.api as sm\n",
        "import matplotlib.pyplot as plt\n",
        "import seaborn as sns\n",
        "sns.set\n",
        "from scipy.stats import ttest_ind,randint\n",
        "from sklearn.utils import resample\n",
        "from sklearn.model_selection import train_test_split, StratifiedKFold,RandomizedSearchCV\n",
        "from sklearn.svm import SVC\n",
        "from sklearn.linear_model import LogisticRegression\n",
        "from sklearn import preprocessing, metrics\n",
        "from sklearn import utils\n",
        "from sklearn.preprocessing import StandardScaler, LabelEncoder, LabelBinarizer\n",
        "from sklearn.tree import DecisionTreeClassifier\n",
        "from sklearn.ensemble import RandomForestClassifier, ExtraTreesClassifier, BaggingClassifier, AdaBoostClassifier, GradientBoostingClassifier, VotingClassifier\n",
        "from sklearn.neighbors import KNeighborsClassifier\n",
        "from xgboost import XGBClassifier\n",
        "from sklearn.metrics import *\n",
        "import warnings\n",
        "warnings.filterwarnings('ignore')\n",
        "%matplotlib inline"
      ],
      "execution_count": 38,
      "outputs": []
    },
    {
      "cell_type": "code",
      "metadata": {
        "id": "Xfub0K4KwC-o",
        "colab_type": "code",
        "colab": {
          "base_uri": "https://localhost:8080/",
          "height": 125
        },
        "outputId": "4cfc07cc-bd2a-42c2-d880-2fbe95d9c124"
      },
      "source": [
        "from google.colab import drive\n",
        "drive.mount('/content/drive')\n",
        "path='/content/drive/My Drive/webmd.csv'\n",
        "#the dataset is in csv format so we'll use read_csv function in pandas and replace blank space with NaN by \"na_values=' '\"\n",
        "df=pd.read_csv(path, na_values=' ')"
      ],
      "execution_count": 3,
      "outputs": [
        {
          "output_type": "stream",
          "text": [
            "Go to this URL in a browser: https://accounts.google.com/o/oauth2/auth?client_id=947318989803-6bn6qk8qdgf4n4g3pfee6491hc0brc4i.apps.googleusercontent.com&redirect_uri=urn%3aietf%3awg%3aoauth%3a2.0%3aoob&scope=email%20https%3a%2f%2fwww.googleapis.com%2fauth%2fdocs.test%20https%3a%2f%2fwww.googleapis.com%2fauth%2fdrive%20https%3a%2f%2fwww.googleapis.com%2fauth%2fdrive.photos.readonly%20https%3a%2f%2fwww.googleapis.com%2fauth%2fpeopleapi.readonly&response_type=code\n",
            "\n",
            "Enter your authorization code:\n",
            "··········\n",
            "Mounted at /content/drive\n"
          ],
          "name": "stdout"
        }
      ]
    },
    {
      "cell_type": "code",
      "metadata": {
        "id": "uRs-L0fdwC-u",
        "colab_type": "code",
        "colab": {
          "base_uri": "https://localhost:8080/",
          "height": 141
        },
        "outputId": "29986dc5-1ea6-4f1c-b87c-8311e6974377"
      },
      "source": [
        "#Only some attributes are considered in this project we'll drop attributes that aren't considered.\n",
        "df=df.drop(['Date', 'DrugId', 'Reviews', 'Sides', 'UsefulCount'], axis=1)\n",
        "\n",
        "#Since our focus to predict painkiller, we'll chose conditions that have a word pain in them \n",
        "df=df[df.Condition.str.contains('Pain', na=False)]\n",
        "\n",
        "#check the number of features and rows of remaining data\n",
        "print(\"Dataset contains: \" + str(df.shape[0]) + \" rows and \" + str(df.shape[1]) + \" columns\")\n",
        "\n",
        "#display top 5 rows\n",
        "df.Condition.value_counts().head(5)"
      ],
      "execution_count": 4,
      "outputs": [
        {
          "output_type": "stream",
          "text": [
            "Dataset contains: 53649 rows and 7 columns\n"
          ],
          "name": "stdout"
        },
        {
          "output_type": "execute_result",
          "data": {
            "text/plain": [
              "Pain                                                         25232\n",
              "Neuropathic Pain                                              8988\n",
              "Disorder characterized by Stiff, Tender & Painful Muscles     3472\n",
              "Chronic Pain                                                  2913\n",
              "Joint Damage causing Pain and Loss of Function                2451\n",
              "Name: Condition, dtype: int64"
            ]
          },
          "metadata": {
            "tags": []
          },
          "execution_count": 4
        }
      ]
    },
    {
      "cell_type": "markdown",
      "metadata": {
        "id": "qW5FjGEnzcAC",
        "colab_type": "text"
      },
      "source": [
        "For this project let's use one condition that is frequently occured in the dataset. Looking at the value_counts() above the top condition is 'Pain' but it is very general so we chose Neuropathic Pain for our model. "
      ]
    },
    {
      "cell_type": "code",
      "metadata": {
        "id": "YTxy9iLVwC_H",
        "colab_type": "code",
        "colab": {
          "base_uri": "https://localhost:8080/",
          "height": 123
        },
        "outputId": "fa97ca34-c659-4f2c-f43d-81a9fc03fedd"
      },
      "source": [
        "df=df[df['Condition']=='Neuropathic Pain']\n",
        "df.Drug.value_counts().head()"
      ],
      "execution_count": 5,
      "outputs": [
        {
          "output_type": "execute_result",
          "data": {
            "text/plain": [
              "lyrica                 1283\n",
              "neurontin capsule       790\n",
              "neurontin               790\n",
              "cymbalta                699\n",
              "gabapentin solution     661\n",
              "Name: Drug, dtype: int64"
            ]
          },
          "metadata": {
            "tags": []
          },
          "execution_count": 5
        }
      ]
    },
    {
      "cell_type": "markdown",
      "metadata": {
        "id": "Qy1HYMJmEBdN",
        "colab_type": "text"
      },
      "source": [
        "We merged drugs in one family for instance 'tramadol hcl' and 'tramadol hcl er' are the same chemical composition with minor difference."
      ]
    },
    {
      "cell_type": "code",
      "metadata": {
        "id": "UHW-Ay99wC_a",
        "colab_type": "code",
        "colab": {}
      },
      "source": [
        "df.replace(to_replace=['gabapentin tablet, extended release 24 hr','gabapentin solution','neurontin capsule', 'oxycodone tablet, oral only',\n",
        "                       'oxycodone hcl er','oxycodone hcl','oxycodone hcl solution', 'tramadol hcl','tramadol hcl er','methadone hcl',\n",
        "                       'methadone hcl tablet, soluble','methadone hcl solution', 'morphine sulfate er tablet, extended release', \n",
        "                       'morphine sulfate', 'morphine sulfate er capsule, extended release multiphase 24 hr',\n",
        "                       'morphine tablet,oral only, extended release','morphine sulfate er'], \n",
        "           value=['gabapentin','gabapentin','neurontin','oxycodone','oxycodone','oxycodone','oxycodone',\n",
        "                 'tramadol','tramadol','methadone','methadone','methadone','morphine','morphine','morphine','morphine',\n",
        "                  'morphine'], inplace=True)"
      ],
      "execution_count": 6,
      "outputs": []
    },
    {
      "cell_type": "code",
      "metadata": {
        "id": "q3Dm4Z_8wC_g",
        "colab_type": "code",
        "colab": {
          "base_uri": "https://localhost:8080/",
          "height": 158
        },
        "outputId": "3a2e0364-33d3-47ce-fe6b-ab32e963fe79"
      },
      "source": [
        "df.Drug.value_counts().head(7)"
      ],
      "execution_count": 7,
      "outputs": [
        {
          "output_type": "execute_result",
          "data": {
            "text/plain": [
              "gabapentin           1983\n",
              "oxycodone            1608\n",
              "neurontin            1580\n",
              "lyrica               1283\n",
              "cymbalta              699\n",
              "tramadol              654\n",
              "amitriptyline hcl     240\n",
              "Name: Drug, dtype: int64"
            ]
          },
          "metadata": {
            "tags": []
          },
          "execution_count": 7
        }
      ]
    },
    {
      "cell_type": "code",
      "metadata": {
        "id": "REcv5QNGwC_n",
        "colab_type": "code",
        "colab": {
          "base_uri": "https://localhost:8080/",
          "height": 52
        },
        "outputId": "96445934-429c-44bf-fc14-6f05e1550860"
      },
      "source": [
        "#Let's chose top four drugs with high frequency\n",
        "df=df[df['Drug'].isin(['gabapentin','oxycodone','neurontin','lyrica'])]\n",
        "df.Condition.value_counts()"
      ],
      "execution_count": 7,
      "outputs": [
        {
          "output_type": "execute_result",
          "data": {
            "text/plain": [
              "Neuropathic Pain    6454\n",
              "Name: Condition, dtype: int64"
            ]
          },
          "metadata": {
            "tags": []
          },
          "execution_count": 7
        }
      ]
    },
    {
      "cell_type": "code",
      "metadata": {
        "id": "E1QbygYI-I2L",
        "colab_type": "code",
        "colab": {
          "base_uri": "https://localhost:8080/",
          "height": 52
        },
        "outputId": "3bd41a13-10bb-4d30-831a-4b83caeb2af3"
      },
      "source": [
        "#check if there are missing values\n",
        "print('Do null values exist in the dataset? ' + str(df.isnull().values.any()))\n",
        "#fill missing values using method 'pad' and drop if there are any unfilled null values using pad method\n",
        "df.fillna(method ='pad', inplace=True) \n",
        "df.dropna(inplace=True)\n",
        "#check agin missing values\n",
        "print('Do null values exist in the dataset? ' + str(df.isnull().values.any()))\n"
      ],
      "execution_count": 8,
      "outputs": [
        {
          "output_type": "stream",
          "text": [
            "Do null values exist in the dataset? True\n",
            "Do null values exist in the dataset? False\n"
          ],
          "name": "stdout"
        }
      ]
    },
    {
      "cell_type": "markdown",
      "metadata": {
        "id": "EhmWp13Ppmaq",
        "colab_type": "text"
      },
      "source": [
        "# Exploratory Data Analysis"
      ]
    },
    {
      "cell_type": "markdown",
      "metadata": {
        "id": "qfN9ZfjXwkiP",
        "colab_type": "text"
      },
      "source": [
        "In this section we try to visualize and statistically hypothesize to understand the dataset better and and the best way to represent it to actually gain meaningful insights.  "
      ]
    },
    {
      "cell_type": "code",
      "metadata": {
        "id": "4tHP3gJvLvPG",
        "colab_type": "code",
        "colab": {}
      },
      "source": [
        "# Feature engineering: discretization on age for age_group & age_bin_label\n",
        "# before getting into grouping, lets replace the existing group to approximate age. \n",
        "df.replace(to_replace=['0-2', '3-6','7-12', '13-18','19-24','25-34','35-44','45-54','55-64','65-74','75 or over'], \n",
        "           value=[0,5,10,15,20,30,40,50,60,70,80], inplace=True)\n",
        "\n",
        "age_bins = [0, 20, 30, 40, 50, 60, 70,80]\n",
        "age_bin_labels = [1,2,3,4,5,6,7]\n",
        "# Stratification: age_group, Generate age_group and age_group_label\n",
        "df['Age_group'] = pd.cut(np.array(df['Age']),bins=age_bins) \n",
        "df['Age_group_label'] = pd.cut(np.array(df['Age']),bins=age_bins, labels=age_bin_labels) "
      ],
      "execution_count": 9,
      "outputs": []
    },
    {
      "cell_type": "code",
      "metadata": {
        "id": "hTpo_GgbADlP",
        "colab_type": "code",
        "colab": {
          "base_uri": "https://localhost:8080/",
          "height": 351
        },
        "outputId": "761b4e73-dd16-46e4-e65f-28ca02f1cc80"
      },
      "source": [
        "# Count frequencies and shows patients breakdown by stroke condition:\n",
        "df_sex = pd.DataFrame(df.groupby('Sex')['Sex'].count())\n",
        "df_sex.columns = ['count']\n",
        "plt.figure(figsize=(6,5), dpi= 80)\n",
        "plt.pie(df_sex, labels=['Female','Male'], autopct='%.0f%%', colors=['pink','blue'], shadow=True)\n",
        "plt.title('Patients gender proportion')\n",
        "plt.show()"
      ],
      "execution_count": 10,
      "outputs": [
        {
          "output_type": "display_data",
          "data": {
            "image/png": "[encoded data removed]",
            "text/plain": [
              "<Figure size 480x400 with 1 Axes>"
            ]
          },
          "metadata": {
            "tags": []
          }
        }
      ]
    },
    {
      "cell_type": "code",
      "metadata": {
        "id": "KPVaO2JjSL_P",
        "colab_type": "code",
        "colab": {
          "base_uri": "https://localhost:8080/",
          "height": 401
        },
        "outputId": "18d5f9f6-5374-41f6-84ce-56a34005e677"
      },
      "source": [
        "#visualize age distribution of the patient \n",
        "plt.figure(figsize=(12,5), dpi= 80)\n",
        "plt.subplot(1, 2, 1)\n",
        "sns.countplot(x=\"Age\", data=df,);\n",
        "plt.ylabel('Age frequency')\n",
        "plt.title('Age distribution')\n",
        "plt.subplot(1, 2, 2)\n",
        "sns.countplot(x=\"Age\", hue=\"Sex\",data=df,);\n",
        "plt.ylabel('Age frequency')\n",
        "plt.title('Age distribution')\n",
        "# plt.subplot(1, 3, 2)\n",
        "# sns.countplot(x=\"Effectiveness\", hue=\"Sex\",data=df);\n",
        "# plt.subplot(1, 3, 3)\n",
        "# sns.countplot(x=\"Satisfaction\", hue=\"Sex\",data=df);"
      ],
      "execution_count": 12,
      "outputs": [
        {
          "output_type": "execute_result",
          "data": {
            "text/plain": [
              "Text(0.5, 1.0, 'Age distribution')"
            ]
          },
          "metadata": {
            "tags": []
          },
          "execution_count": 12
        },
        {
          "output_type": "display_data",
          "data": {
            "image/png": "[encoded data removed]",
            "text/plain": [
              "<Figure size 960x400 with 2 Axes>"
            ]
          },
          "metadata": {
            "tags": [],
            "needs_background": "light"
          }
        }
      ]
    },
    {
      "cell_type": "code",
      "metadata": {
        "id": "to1Kbv_kw4U4",
        "colab_type": "code",
        "colab": {
          "base_uri": "https://localhost:8080/",
          "height": 401
        },
        "outputId": "5bc8b39c-59c0-4dde-ac2d-510657dd9fa6"
      },
      "source": [
        "#The frequency of selected drugs across age.\n",
        "plt.figure(figsize=(12,5), dpi= 80)\n",
        "\n",
        "sns.countplot(x=\"Age\", hue=\"Drug\",data=df,);\n",
        "plt.ylabel('Drug frequency')\n",
        "plt.title('Age distribution ')\n",
        "plt.legend(loc='upper left')"
      ],
      "execution_count": 13,
      "outputs": [
        {
          "output_type": "execute_result",
          "data": {
            "text/plain": [
              "<matplotlib.legend.Legend at 0x7fb20d40ea20>"
            ]
          },
          "metadata": {
            "tags": []
          },
          "execution_count": 13
        },
        {
          "output_type": "display_data",
          "data": {
            "image/png": "[encoded data removed]",
            "text/plain": [
              "<Figure size 960x400 with 1 Axes>"
            ]
          },
          "metadata": {
            "tags": [],
            "needs_background": "light"
          }
        }
      ]
    },
    {
      "cell_type": "code",
      "metadata": {
        "id": "ypER7VexwDBM",
        "colab_type": "code",
        "colab": {
          "base_uri": "https://localhost:8080/",
          "height": 394
        },
        "outputId": "c6265807-d2a0-4f4f-be61-4b9dd147ed73"
      },
      "source": [
        "plt.figure(figsize=(18,6), dpi= 80)\n",
        "plt.subplot(1, 3, 1)\n",
        "sns.countplot(x=\"EaseofUse\", hue=\"Sex\",data=df,);\n",
        "plt.subplot(1, 3, 2)\n",
        "sns.countplot(x=\"Effectiveness\", hue=\"Sex\",data=df);\n",
        "plt.subplot(1, 3, 3)\n",
        "sns.countplot(x=\"Satisfaction\", hue=\"Sex\",data=df);"
      ],
      "execution_count": 14,
      "outputs": [
        {
          "output_type": "display_data",
          "data": {
            "image/png": "[encoded data removed]",
            "text/plain": [
              "<Figure size 1440x480 with 3 Axes>"
            ]
          },
          "metadata": {
            "tags": [],
            "needs_background": "light"
          }
        }
      ]
    },
    {
      "cell_type": "code",
      "metadata": {
        "id": "c7o4V3NaS45k",
        "colab_type": "code",
        "colab": {
          "base_uri": "https://localhost:8080/",
          "height": 442
        },
        "outputId": "d2f17549-b867-4106-da37-57d31c7773b9"
      },
      "source": [
        "plt.figure(figsize=(6,5), dpi= 80)\n",
        "av=sns.countplot(x=\"Drug\", data=df,);\n",
        "av.set_xticklabels(av.get_xticklabels(), rotation=45);\n",
        "av.set_title('Frequency of Drug')\n"
      ],
      "execution_count": 14,
      "outputs": [
        {
          "output_type": "execute_result",
          "data": {
            "text/plain": [
              "Text(0.5, 1.0, 'Frequency of Drug')"
            ]
          },
          "metadata": {
            "tags": []
          },
          "execution_count": 14
        },
        {
          "output_type": "display_data",
          "data": {
            "image/png": "[encoded data removed]",
            "text/plain": [
              "<Figure size 480x400 with 1 Axes>"
            ]
          },
          "metadata": {
            "tags": [],
            "needs_background": "light"
          }
        }
      ]
    },
    {
      "cell_type": "code",
      "metadata": {
        "id": "4M0500xPwDBT",
        "colab_type": "code",
        "colab": {
          "base_uri": "https://localhost:8080/",
          "height": 377
        },
        "outputId": "ef5d2f04-6efb-4330-e6d3-8869a81d589f"
      },
      "source": [
        "df_mean=df.groupby('Age').mean()\n",
        "df_mean"
      ],
      "execution_count": 12,
      "outputs": [
        {
          "output_type": "execute_result",
          "data": {
            "text/html": [
              "<div>\n",
              "<style scoped>\n",
              "    .dataframe tbody tr th:only-of-type {\n",
              "        vertical-align: middle;\n",
              "    }\n",
              "\n",
              "    .dataframe tbody tr th {\n",
              "        vertical-align: top;\n",
              "    }\n",
              "\n",
              "    .dataframe thead th {\n",
              "        text-align: right;\n",
              "    }\n",
              "</style>\n",
              "<table border=\"1\" class=\"dataframe\">\n",
              "  <thead>\n",
              "    <tr style=\"text-align: right;\">\n",
              "      <th></th>\n",
              "      <th>EaseofUse</th>\n",
              "      <th>Effectiveness</th>\n",
              "      <th>Satisfaction</th>\n",
              "    </tr>\n",
              "    <tr>\n",
              "      <th>Age</th>\n",
              "      <th></th>\n",
              "      <th></th>\n",
              "      <th></th>\n",
              "    </tr>\n",
              "  </thead>\n",
              "  <tbody>\n",
              "    <tr>\n",
              "      <th>5</th>\n",
              "      <td>5.000000</td>\n",
              "      <td>5.000000</td>\n",
              "      <td>5.000000</td>\n",
              "    </tr>\n",
              "    <tr>\n",
              "      <th>10</th>\n",
              "      <td>3.000000</td>\n",
              "      <td>4.000000</td>\n",
              "      <td>3.000000</td>\n",
              "    </tr>\n",
              "    <tr>\n",
              "      <th>15</th>\n",
              "      <td>4.750000</td>\n",
              "      <td>3.625000</td>\n",
              "      <td>3.375000</td>\n",
              "    </tr>\n",
              "    <tr>\n",
              "      <th>20</th>\n",
              "      <td>3.820225</td>\n",
              "      <td>3.505618</td>\n",
              "      <td>3.258427</td>\n",
              "    </tr>\n",
              "    <tr>\n",
              "      <th>30</th>\n",
              "      <td>4.026258</td>\n",
              "      <td>3.527352</td>\n",
              "      <td>3.236324</td>\n",
              "    </tr>\n",
              "    <tr>\n",
              "      <th>40</th>\n",
              "      <td>4.161359</td>\n",
              "      <td>3.537155</td>\n",
              "      <td>3.249469</td>\n",
              "    </tr>\n",
              "    <tr>\n",
              "      <th>50</th>\n",
              "      <td>4.126623</td>\n",
              "      <td>3.550325</td>\n",
              "      <td>3.287338</td>\n",
              "    </tr>\n",
              "    <tr>\n",
              "      <th>60</th>\n",
              "      <td>4.194681</td>\n",
              "      <td>3.565426</td>\n",
              "      <td>3.375532</td>\n",
              "    </tr>\n",
              "    <tr>\n",
              "      <th>70</th>\n",
              "      <td>4.110991</td>\n",
              "      <td>3.368534</td>\n",
              "      <td>3.134698</td>\n",
              "    </tr>\n",
              "    <tr>\n",
              "      <th>80</th>\n",
              "      <td>4.175676</td>\n",
              "      <td>3.300676</td>\n",
              "      <td>3.054054</td>\n",
              "    </tr>\n",
              "  </tbody>\n",
              "</table>\n",
              "</div>"
            ],
            "text/plain": [
              "     EaseofUse  Effectiveness  Satisfaction\n",
              "Age                                        \n",
              "5     5.000000       5.000000      5.000000\n",
              "10    3.000000       4.000000      3.000000\n",
              "15    4.750000       3.625000      3.375000\n",
              "20    3.820225       3.505618      3.258427\n",
              "30    4.026258       3.527352      3.236324\n",
              "40    4.161359       3.537155      3.249469\n",
              "50    4.126623       3.550325      3.287338\n",
              "60    4.194681       3.565426      3.375532\n",
              "70    4.110991       3.368534      3.134698\n",
              "80    4.175676       3.300676      3.054054"
            ]
          },
          "metadata": {
            "tags": []
          },
          "execution_count": 12
        }
      ]
    },
    {
      "cell_type": "code",
      "metadata": {
        "id": "Y0qhMy9AwDBg",
        "colab_type": "code",
        "colab": {
          "base_uri": "https://localhost:8080/",
          "height": 330
        },
        "outputId": "7e3c59b5-e6d3-4500-93e3-e686a1bb0828"
      },
      "source": [
        "plt.figure(figsize=(6,5), dpi= 80)\n",
        "df_mean.plot(style='o')\n",
        "# Plot formatting\n",
        "plt.xlabel('Age')\n",
        "plt.ylabel('mean value')\n",
        "plt.xlim(0,90)\n",
        "plt.ylim(0,5)\n",
        "plt.title('Comparison of mean value')\n",
        "plt.legend(loc='lower right')"
      ],
      "execution_count": 13,
      "outputs": [
        {
          "output_type": "execute_result",
          "data": {
            "text/plain": [
              "<matplotlib.legend.Legend at 0x7f4ebc099160>"
            ]
          },
          "metadata": {
            "tags": []
          },
          "execution_count": 13
        },
        {
          "output_type": "display_data",
          "data": {
            "text/plain": [
              "<Figure size 480x400 with 0 Axes>"
            ]
          },
          "metadata": {
            "tags": []
          }
        },
        {
          "output_type": "display_data",
          "data": {
            "image/png": "[encoded data removed]",
            "text/plain": [
              "<Figure size 432x288 with 1 Axes>"
            ]
          },
          "metadata": {
            "tags": [],
            "needs_background": "light"
          }
        }
      ]
    },
    {
      "cell_type": "code",
      "metadata": {
        "id": "z39irRSeC8xw",
        "colab_type": "code",
        "colab": {
          "base_uri": "https://localhost:8080/",
          "height": 404
        },
        "outputId": "4a182753-52db-4aef-ec4c-47200c650c9c"
      },
      "source": [
        "#graphical representation of corellation\n",
        "plt.figure(figsize=(6,5), dpi= 80)\n",
        "hm=sns.heatmap(df.corr(), annot=True,center = 0,cmap='bwr_r', cbar=True)\n",
        "plt.title('Heatmap of Correlation Matrix')\n",
        "plt.tight_layout()"
      ],
      "execution_count": 17,
      "outputs": [
        {
          "output_type": "display_data",
          "data": {
            "image/png": "[encoded data removed]",
            "text/plain": [
              "<Figure size 480x400 with 2 Axes>"
            ]
          },
          "metadata": {
            "tags": [],
            "needs_background": "light"
          }
        }
      ]
    },
    {
      "cell_type": "code",
      "metadata": {
        "id": "0VpoDq19obRp",
        "colab_type": "code",
        "colab": {
          "base_uri": "https://localhost:8080/",
          "height": 176
        },
        "outputId": "f1f2bf22-70f2-433e-d823-eb5f0f1b0589"
      },
      "source": [
        "# Filter dataframe by a target label\n",
        "df_gab=df[df['Drug']=='gabapentin']\n",
        "df_oxy=df[df['Drug']=='oxycodone']\n",
        "df_neu=df[df['Drug']=='neurontin']\n",
        "df_lyr=df[df['Drug']=='lyrica']\n",
        "# Stratified by age_group_label of oxycodone drug:\n",
        "df_oxy_grp1 = df_oxy[df_oxy['Age_group_label'] == 1] # age: <20 \n",
        "df_oxy_grp2 = df_oxy[df_oxy['Age_group_label'] == 2] # age: 20-30\n",
        "df_oxy_grp3 = df_oxy[df_oxy['Age_group_label'] == 3] # age: 30-40\n",
        "df_oxy_grp4 = df_oxy[df_oxy['Age_group_label'] == 4] # age: 40-50\n",
        "df_oxy_grp5 = df_oxy[df_oxy['Age_group_label'] == 5] # age: 50-60\n",
        "df_oxy_grp6 = df_oxy[df_oxy['Age_group_label'] == 6] # age: 60-70\n",
        "df_oxy_grp7 = df_oxy[df_oxy['Age_group_label'] == 7] # age: >70\n",
        "\n",
        "# Stratified by age_group_label of neurontin drug: \n",
        "df_neu_grp1 = df_neu[df_neu['Age_group_label'] == 1] \n",
        "df_neu_grp2 = df_neu[df_neu['Age_group_label'] == 2] \n",
        "df_neu_grp3 = df_neu[df_neu['Age_group_label'] == 3] \n",
        "df_neu_grp4 = df_neu[df_neu['Age_group_label'] == 4] \n",
        "df_neu_grp5 = df_neu[df_neu['Age_group_label'] == 5] \n",
        "df_neu_grp6 = df_neu[df_neu['Age_group_label'] == 6] \n",
        "df_neu_grp7 = df_neu[df_neu['Age_group_label'] == 7] \n",
        "\n",
        "# Stratified by age_group_label of lyrica drug:\n",
        "df_lyr_grp1 = df_lyr[df_lyr['Age_group_label'] == 1]  \n",
        "df_lyr_grp2 = df_lyr[df_lyr['Age_group_label'] == 2] \n",
        "df_lyr_grp3 = df_lyr[df_lyr['Age_group_label'] == 3] \n",
        "df_lyr_grp4 = df_lyr[df_lyr['Age_group_label'] == 4] \n",
        "df_lyr_grp5 = df_lyr[df_lyr['Age_group_label'] == 5] \n",
        "df_lyr_grp6 = df_lyr[df_lyr['Age_group_label'] == 6] \n",
        "df_lyr_grp7 = df_lyr[df_lyr['Age_group_label'] == 7] \n",
        "\n",
        "# Age group counts index for stratification by major class \"drug\" %:\n",
        "df_gab_counts = df_gab[['Age_group','Age_group_label']]\n",
        "df_gab_counts = pd.DataFrame(df_gab_counts.groupby('Age_group_label')['Age_group'].count())\n",
        "df_gab_counts.columns = ['counts']\n",
        "\n",
        "# Compute age group label proporiton % on gabapentin drug:\n",
        "df_gab_counts['Age_group_pct'] = df_gab_counts['counts']/df_gab_counts['counts'].sum()\n",
        "\n",
        "# Print the count index for each age group from gabapentin drug:\n",
        "print(df_gab_counts)"
      ],
      "execution_count": 14,
      "outputs": [
        {
          "output_type": "stream",
          "text": [
            "                 counts  Age_group_pct\n",
            "Age_group_label                       \n",
            "1                    19       0.009581\n",
            "2                   100       0.050429\n",
            "3                   184       0.092789\n",
            "4                   498       0.251135\n",
            "5                   582       0.293495\n",
            "6                   453       0.228442\n",
            "7                   147       0.074130\n"
          ],
          "name": "stdout"
        }
      ]
    },
    {
      "cell_type": "code",
      "metadata": {
        "id": "JJHxh6eWoPh3",
        "colab_type": "code",
        "colab": {}
      },
      "source": [
        "# Upsampling on oxycodone drug by gabapentin drug proporition %\n",
        "\n",
        "sampled_oxy_grp1 = resample(df_oxy_grp1, replace=True, n_samples=20,random_state=0)\n",
        "sampled_oxy_grp2 = resample(df_oxy_grp2, replace=True, n_samples=100,random_state=0)\n",
        "sampled_oxy_grp3 = resample(df_oxy_grp3, replace=True, n_samples=185,random_state=0)\n",
        "sampled_oxy_grp4 = resample(df_oxy_grp4, replace=True, n_samples=500,random_state=0)\n",
        "sampled_oxy_grp5 = resample(df_oxy_grp5, replace=True, n_samples=580,random_state=0)\n",
        "sampled_oxy_grp6 = resample(df_oxy_grp6, replace=True, n_samples=455,random_state=0)\n",
        "sampled_oxy_grp7 = resample(df_oxy_grp7, replace=True, n_samples=150,random_state=0)\n",
        "\n",
        "# Concatentate upsampled minority class: \"oxycodone\" drug of all age groups\n",
        "df_oxy_upsampled = pd.concat([sampled_oxy_grp1,sampled_oxy_grp2,sampled_oxy_grp3, sampled_oxy_grp4,sampled_oxy_grp5,sampled_oxy_grp6,\n",
        "                              sampled_oxy_grp7], axis=0)"
      ],
      "execution_count": 15,
      "outputs": []
    },
    {
      "cell_type": "code",
      "metadata": {
        "id": "PwtyaKspuFbw",
        "colab_type": "code",
        "colab": {}
      },
      "source": [
        "# Upsampling on neurontin drug by gabapentin drug proporition %\n",
        "\n",
        "sampled_neu_grp1 = resample(df_neu_grp1, replace=True, n_samples=20,random_state=0)\n",
        "sampled_neu_grp2 = resample(df_neu_grp2, replace=True, n_samples=100,random_state=0)\n",
        "sampled_neu_grp3 = resample(df_neu_grp3, replace=True, n_samples=185,random_state=0)\n",
        "sampled_neu_grp4 = resample(df_neu_grp4, replace=True, n_samples=500,random_state=0)\n",
        "sampled_neu_grp5 = resample(df_neu_grp5, replace=True, n_samples=580,random_state=0)\n",
        "sampled_neu_grp6 = resample(df_neu_grp6, replace=True, n_samples=455,random_state=0)\n",
        "sampled_neu_grp7 = resample(df_neu_grp7, replace=True, n_samples=150,random_state=0)\n",
        "\n",
        "# Concatentate upsampled minority class: \"neurontin\" drug of all age groups\n",
        "df_neu_upsampled = pd.concat([sampled_neu_grp1,sampled_neu_grp2,sampled_neu_grp3, sampled_neu_grp4,sampled_neu_grp5,sampled_neu_grp6,\n",
        "                               sampled_neu_grp7], axis=0)"
      ],
      "execution_count": 16,
      "outputs": []
    },
    {
      "cell_type": "code",
      "metadata": {
        "id": "PWajzAyHuGQr",
        "colab_type": "code",
        "colab": {}
      },
      "source": [
        "# Upsampling on lyrica drug by gabapentin drug proporition %\n",
        "\n",
        "sampled_lyr_grp1 = resample(df_lyr_grp1, replace=True, n_samples=20,random_state=0)\n",
        "sampled_lyr_grp2 = resample(df_lyr_grp2, replace=True, n_samples=100,random_state=0)\n",
        "sampled_lyr_grp3 = resample(df_lyr_grp3, replace=True, n_samples=185,random_state=0)\n",
        "sampled_lyr_grp4 = resample(df_lyr_grp4, replace=True, n_samples=500,random_state=0)\n",
        "sampled_lyr_grp5 = resample(df_lyr_grp5, replace=True, n_samples=580,random_state=0)\n",
        "sampled_lyr_grp6 = resample(df_lyr_grp6, replace=True, n_samples=455,random_state=0)\n",
        "sampled_lyr_grp7 = resample(df_lyr_grp7, replace=True, n_samples=150,random_state=0)\n",
        "\n",
        "# Concatentate upsampled minority class: \"lyrica\" drug of all age groups\n",
        "df_lyr_upsampled = pd.concat([sampled_lyr_grp1,sampled_lyr_grp2,sampled_lyr_grp3, sampled_lyr_grp4,sampled_lyr_grp5,sampled_lyr_grp6,\n",
        "                              sampled_lyr_grp7], axis=0)\n",
        "\n",
        "# Conbine upsampled minority classes: \"oxycodone,neurontin,lyrica\" drug with upsampled gabapentin drug\n",
        "df = pd.concat([df_oxy_upsampled,df_neu_upsampled,df_lyr_upsampled,df_gab],axis=0)"
      ],
      "execution_count": 17,
      "outputs": []
    },
    {
      "cell_type": "code",
      "metadata": {
        "id": "dewAZ-BgZYfl",
        "colab_type": "code",
        "colab": {
          "base_uri": "https://localhost:8080/",
          "height": 197
        },
        "outputId": "b56d1e90-3111-4300-81cb-5efcca9380b2"
      },
      "source": [
        "#reset index\n",
        "df.reset_index(drop=True, inplace=True)\n",
        "#pickle dataframe for later use\n",
        "df.to_pickle(\"Neuropathic Pain.pkl\")\n",
        "#Let's see the first 5 rows\n",
        "df.head()"
      ],
      "execution_count": 18,
      "outputs": [
        {
          "output_type": "execute_result",
          "data": {
            "text/html": [
              "<div>\n",
              "<style scoped>\n",
              "    .dataframe tbody tr th:only-of-type {\n",
              "        vertical-align: middle;\n",
              "    }\n",
              "\n",
              "    .dataframe tbody tr th {\n",
              "        vertical-align: top;\n",
              "    }\n",
              "\n",
              "    .dataframe thead th {\n",
              "        text-align: right;\n",
              "    }\n",
              "</style>\n",
              "<table border=\"1\" class=\"dataframe\">\n",
              "  <thead>\n",
              "    <tr style=\"text-align: right;\">\n",
              "      <th></th>\n",
              "      <th>Age</th>\n",
              "      <th>Condition</th>\n",
              "      <th>Drug</th>\n",
              "      <th>EaseofUse</th>\n",
              "      <th>Effectiveness</th>\n",
              "      <th>Satisfaction</th>\n",
              "      <th>Sex</th>\n",
              "      <th>Age_group</th>\n",
              "      <th>Age_group_label</th>\n",
              "    </tr>\n",
              "  </thead>\n",
              "  <tbody>\n",
              "    <tr>\n",
              "      <th>0</th>\n",
              "      <td>20</td>\n",
              "      <td>Neuropathic Pain</td>\n",
              "      <td>oxycodone</td>\n",
              "      <td>1</td>\n",
              "      <td>1</td>\n",
              "      <td>1</td>\n",
              "      <td>Female</td>\n",
              "      <td>(0, 20]</td>\n",
              "      <td>1</td>\n",
              "    </tr>\n",
              "    <tr>\n",
              "      <th>1</th>\n",
              "      <td>20</td>\n",
              "      <td>Neuropathic Pain</td>\n",
              "      <td>oxycodone</td>\n",
              "      <td>4</td>\n",
              "      <td>4</td>\n",
              "      <td>4</td>\n",
              "      <td>Male</td>\n",
              "      <td>(0, 20]</td>\n",
              "      <td>1</td>\n",
              "    </tr>\n",
              "    <tr>\n",
              "      <th>2</th>\n",
              "      <td>20</td>\n",
              "      <td>Neuropathic Pain</td>\n",
              "      <td>oxycodone</td>\n",
              "      <td>4</td>\n",
              "      <td>4</td>\n",
              "      <td>4</td>\n",
              "      <td>Male</td>\n",
              "      <td>(0, 20]</td>\n",
              "      <td>1</td>\n",
              "    </tr>\n",
              "    <tr>\n",
              "      <th>3</th>\n",
              "      <td>20</td>\n",
              "      <td>Neuropathic Pain</td>\n",
              "      <td>oxycodone</td>\n",
              "      <td>3</td>\n",
              "      <td>3</td>\n",
              "      <td>4</td>\n",
              "      <td>Female</td>\n",
              "      <td>(0, 20]</td>\n",
              "      <td>1</td>\n",
              "    </tr>\n",
              "    <tr>\n",
              "      <th>4</th>\n",
              "      <td>20</td>\n",
              "      <td>Neuropathic Pain</td>\n",
              "      <td>oxycodone</td>\n",
              "      <td>5</td>\n",
              "      <td>5</td>\n",
              "      <td>5</td>\n",
              "      <td>Female</td>\n",
              "      <td>(0, 20]</td>\n",
              "      <td>1</td>\n",
              "    </tr>\n",
              "  </tbody>\n",
              "</table>\n",
              "</div>"
            ],
            "text/plain": [
              "   Age         Condition       Drug  ...     Sex  Age_group  Age_group_label\n",
              "0   20  Neuropathic Pain  oxycodone  ...  Female    (0, 20]                1\n",
              "1   20  Neuropathic Pain  oxycodone  ...    Male    (0, 20]                1\n",
              "2   20  Neuropathic Pain  oxycodone  ...    Male    (0, 20]                1\n",
              "3   20  Neuropathic Pain  oxycodone  ...  Female    (0, 20]                1\n",
              "4   20  Neuropathic Pain  oxycodone  ...  Female    (0, 20]                1\n",
              "\n",
              "[5 rows x 9 columns]"
            ]
          },
          "metadata": {
            "tags": []
          },
          "execution_count": 18
        }
      ]
    },
    {
      "cell_type": "code",
      "metadata": {
        "id": "wro0dTrOZgba",
        "colab_type": "code",
        "colab": {
          "base_uri": "https://localhost:8080/",
          "height": 197
        },
        "outputId": "4baef744-8bc9-475f-ae48-598a21357d45"
      },
      "source": [
        "import pickle\n",
        "path='/content/Neuropathic Pain.pkl'\n",
        "df=pd.read_pickle(path)\n",
        "df.head()"
      ],
      "execution_count": 19,
      "outputs": [
        {
          "output_type": "execute_result",
          "data": {
            "text/html": [
              "<div>\n",
              "<style scoped>\n",
              "    .dataframe tbody tr th:only-of-type {\n",
              "        vertical-align: middle;\n",
              "    }\n",
              "\n",
              "    .dataframe tbody tr th {\n",
              "        vertical-align: top;\n",
              "    }\n",
              "\n",
              "    .dataframe thead th {\n",
              "        text-align: right;\n",
              "    }\n",
              "</style>\n",
              "<table border=\"1\" class=\"dataframe\">\n",
              "  <thead>\n",
              "    <tr style=\"text-align: right;\">\n",
              "      <th></th>\n",
              "      <th>Age</th>\n",
              "      <th>Condition</th>\n",
              "      <th>Drug</th>\n",
              "      <th>EaseofUse</th>\n",
              "      <th>Effectiveness</th>\n",
              "      <th>Satisfaction</th>\n",
              "      <th>Sex</th>\n",
              "      <th>Age_group</th>\n",
              "      <th>Age_group_label</th>\n",
              "    </tr>\n",
              "  </thead>\n",
              "  <tbody>\n",
              "    <tr>\n",
              "      <th>0</th>\n",
              "      <td>20</td>\n",
              "      <td>Neuropathic Pain</td>\n",
              "      <td>oxycodone</td>\n",
              "      <td>1</td>\n",
              "      <td>1</td>\n",
              "      <td>1</td>\n",
              "      <td>Female</td>\n",
              "      <td>(0, 20]</td>\n",
              "      <td>1</td>\n",
              "    </tr>\n",
              "    <tr>\n",
              "      <th>1</th>\n",
              "      <td>20</td>\n",
              "      <td>Neuropathic Pain</td>\n",
              "      <td>oxycodone</td>\n",
              "      <td>4</td>\n",
              "      <td>4</td>\n",
              "      <td>4</td>\n",
              "      <td>Male</td>\n",
              "      <td>(0, 20]</td>\n",
              "      <td>1</td>\n",
              "    </tr>\n",
              "    <tr>\n",
              "      <th>2</th>\n",
              "      <td>20</td>\n",
              "      <td>Neuropathic Pain</td>\n",
              "      <td>oxycodone</td>\n",
              "      <td>4</td>\n",
              "      <td>4</td>\n",
              "      <td>4</td>\n",
              "      <td>Male</td>\n",
              "      <td>(0, 20]</td>\n",
              "      <td>1</td>\n",
              "    </tr>\n",
              "    <tr>\n",
              "      <th>3</th>\n",
              "      <td>20</td>\n",
              "      <td>Neuropathic Pain</td>\n",
              "      <td>oxycodone</td>\n",
              "      <td>3</td>\n",
              "      <td>3</td>\n",
              "      <td>4</td>\n",
              "      <td>Female</td>\n",
              "      <td>(0, 20]</td>\n",
              "      <td>1</td>\n",
              "    </tr>\n",
              "    <tr>\n",
              "      <th>4</th>\n",
              "      <td>20</td>\n",
              "      <td>Neuropathic Pain</td>\n",
              "      <td>oxycodone</td>\n",
              "      <td>5</td>\n",
              "      <td>5</td>\n",
              "      <td>5</td>\n",
              "      <td>Female</td>\n",
              "      <td>(0, 20]</td>\n",
              "      <td>1</td>\n",
              "    </tr>\n",
              "  </tbody>\n",
              "</table>\n",
              "</div>"
            ],
            "text/plain": [
              "   Age         Condition       Drug  ...     Sex  Age_group  Age_group_label\n",
              "0   20  Neuropathic Pain  oxycodone  ...  Female    (0, 20]                1\n",
              "1   20  Neuropathic Pain  oxycodone  ...    Male    (0, 20]                1\n",
              "2   20  Neuropathic Pain  oxycodone  ...    Male    (0, 20]                1\n",
              "3   20  Neuropathic Pain  oxycodone  ...  Female    (0, 20]                1\n",
              "4   20  Neuropathic Pain  oxycodone  ...  Female    (0, 20]                1\n",
              "\n",
              "[5 rows x 9 columns]"
            ]
          },
          "metadata": {
            "tags": []
          },
          "execution_count": 19
        }
      ]
    },
    {
      "cell_type": "code",
      "metadata": {
        "id": "cySZEOWk0cjQ",
        "colab_type": "code",
        "colab": {
          "base_uri": "https://localhost:8080/",
          "height": 404
        },
        "outputId": "a420e851-d3ba-4573-faaa-014d20e7e243"
      },
      "source": [
        "#graphical representation of corellation\n",
        "plt.figure(figsize=(6,5), dpi= 80)\n",
        "hm=sns.heatmap(df .corr(), annot=True,center = 0,cmap='bwr_r', cbar=True)\n",
        "plt.title('Heatmap of Correlation Matrix')\n",
        "plt.tight_layout()"
      ],
      "execution_count": 25,
      "outputs": [
        {
          "output_type": "display_data",
          "data": {
            "image/png": "[encoded data removed]",
            "text/plain": [
              "<Figure size 480x400 with 2 Axes>"
            ]
          },
          "metadata": {
            "tags": [],
            "needs_background": "light"
          }
        }
      ]
    },
    {
      "cell_type": "markdown",
      "metadata": {
        "id": "1pBIPbSwnHjN",
        "colab_type": "text"
      },
      "source": [
        "# Statistical Test"
      ]
    },
    {
      "cell_type": "markdown",
      "metadata": {
        "id": "8PK4hdDinSR4",
        "colab_type": "text"
      },
      "source": [
        "#### Impact of EaseofUse and Satisfaction\n",
        "\n",
        "Paired sampled t-test :- The paired sample t-test is also called dependent sample t-test. It’s an uni variate test that tests for a significant difference between 2 related variables.\n",
        "\n",
        "Hypothesis Testing:  Is there significant difference between the patients response towards EaseofUse and Satisfaction?\n",
        "\n",
        "\n",
        "##### Null  Hypothesis: \n",
        "\\begin{array}{c}\n",
        "H_0: \\rho_{EaseofUse} = \\rho_{Satisfaction}\n",
        "\\end{array}\n",
        "\n",
        "The null hypothesis would be that there is no difference in patients response of EaseofUse and Satisfaction:\n",
        "\n",
        "##### Alternate Hypothesis:  \n",
        "\\begin{array}{c}\n",
        "H_A: \\rho_{EaseofUse} \\neq \\rho_{Satisfaction}\n",
        "\\end{array}\n",
        "\n",
        "\n",
        "The alternative hypothesis would be that there is a difference in patients response of EaseofUse and Satisfaction.\n",
        "\n",
        "In oder to test this hypothesis, we conducted t-test using ttest_ind()"
      ]
    },
    {
      "cell_type": "code",
      "metadata": {
        "id": "coQvzmAAO0vU",
        "colab_type": "code",
        "colab": {
          "base_uri": "https://localhost:8080/",
          "height": 52
        },
        "outputId": "44929e6d-3fcd-462f-c2bb-cff342e1958d"
      },
      "source": [
        "from scipy.stats import ttest_ind\n",
        "from scipy import stats\n",
        "ttest,pval = stats.ttest_ind(df['EaseofUse'], df['Satisfaction'])\n",
        "print(ttest,pval)\n",
        "if pval < 0.05:\n",
        "    print(\"fail to accepet null hypothesis\")\n",
        "else:\n",
        "    print(\"accept null hypothesis\")"
      ],
      "execution_count": 20,
      "outputs": [
        {
          "output_type": "stream",
          "text": [
            "40.6586087199659 0.0\n",
            "fail to accepet null hypothesis\n"
          ],
          "name": "stdout"
        }
      ]
    },
    {
      "cell_type": "markdown",
      "metadata": {
        "id": "S3erwhfKb-0r",
        "colab_type": "text"
      },
      "source": [
        "#### Impact of Effectiveness and Satisfaction\n",
        "\n",
        "Hypothesis Testing:  Is there significant difference between the patients response towards Effectiveness and Satisfaction?\n",
        "\n",
        "\n",
        "##### Null  Hypothesis: \n",
        "\\begin{array}{c}\n",
        "H_0: \\rho_{Effectiveness} = \\rho_{Satisfaction}\n",
        "\\end{array}\n",
        "\n",
        "The null hypothesis would be that there is no difference in patients response of Effectiveness and Satisfaction:\n",
        "\n",
        "##### Alternate Hypothesis:  \n",
        "\\begin{array}{c}\n",
        "H_A: \\rho_{Effectiveness} \\neq \\rho_{Satisfaction}\n",
        "\\end{array}\n",
        "\n",
        "The alternative hypothesis would be that there is a difference in patients response of Effectiveness and Satisfaction.\n",
        "\n",
        "In oder to test this hypothesis, we conducted t-test using ttest_ind()"
      ]
    },
    {
      "cell_type": "code",
      "metadata": {
        "id": "sIBe_UvybwHL",
        "colab_type": "code",
        "colab": {
          "base_uri": "https://localhost:8080/",
          "height": 0
        },
        "outputId": "4ca64e6b-cb27-4fae-c7e4-1eac53d3515e"
      },
      "source": [
        "from scipy.stats import ttest_ind\n",
        "from scipy import stats\n",
        "ttest,pval = stats.ttest_ind(df['Effectiveness'], df['Satisfaction'])\n",
        "print(ttest,pval)\n",
        "if pval < 0.05:\n",
        "    print(\"fail to accept null hypothesis\")\n",
        "else:\n",
        "    print(\"accept null hypothesis\")"
      ],
      "execution_count": 21,
      "outputs": [
        {
          "output_type": "stream",
          "text": [
            "11.317109888665783 1.4009999799830085e-29\n",
            "fail to accept null hypothesis\n"
          ],
          "name": "stdout"
        }
      ]
    },
    {
      "cell_type": "markdown",
      "metadata": {
        "id": "xVrq-_K5cy6_",
        "colab_type": "text"
      },
      "source": [
        "#### Impact of EaseofUse and Effectiveness\n",
        "\n",
        "Hypothesis Testing:  Is there significant difference between the patients response towards EaseofUse and Effectiveness?\n",
        "\n",
        "\n",
        "##### Null  Hypothesis: \n",
        "\\begin{array}{c}\n",
        "H_0: \\rho_{EaseofUse} = \\rho_{Effectiveness}\n",
        "\\end{array}\n",
        "\n",
        "The null hypothesis would be that there is no difference in patients response of EaseofUse and Effectiveness:\n",
        "\n",
        "##### Alternate Hypothesis:  \n",
        "\\begin{array}{c}\n",
        "H_A: \\rho_{EaseofUse} \\neq \\rho_{Effectiveness}\n",
        "\\end{array}\n",
        "\n",
        "The alternative hypothesis would be that there is a difference in patients response of EaseofUse and Effectiveness.\n",
        "\n",
        "In oder to test this hypothesis, we conducted t-test using ttest_ind()"
      ]
    },
    {
      "cell_type": "code",
      "metadata": {
        "id": "fg4M8H6jclnn",
        "colab_type": "code",
        "colab": {
          "base_uri": "https://localhost:8080/",
          "height": 52
        },
        "outputId": "06d34933-8db3-4e65-90f4-a2a7887e9a8b"
      },
      "source": [
        "from scipy.stats import ttest_ind\n",
        "from scipy import stats\n",
        "ttest,pval = stats.ttest_ind(df['EaseofUse'], df['Effectiveness'])\n",
        "print(ttest,pval)\n",
        "if pval < 0.05:\n",
        "  print(\"fail to accept null hypothesis\")\n",
        "else:\n",
        "  print(\"accept null hypothesis\")"
      ],
      "execution_count": 22,
      "outputs": [
        {
          "output_type": "stream",
          "text": [
            "30.797822502772792 2.334344815019319e-202\n",
            "fail to accept null hypothesis\n"
          ],
          "name": "stdout"
        }
      ]
    },
    {
      "cell_type": "markdown",
      "metadata": {
        "id": "GcrsSAa2lQlt",
        "colab_type": "text"
      },
      "source": [
        "#### Impact of Age and Satisfaction\n",
        "\n",
        "Hypothesis Testing:  Is there significant difference between the patients response towards Age and Satisfaction?\n",
        "\n",
        "\n",
        "##### Null  Hypothesis: \n",
        "\\begin{array}{c}\n",
        "H_0: \\rho_{Age} = \\rho_{Satisfaction}\n",
        "\\end{array}\n",
        "\n",
        "The null hypothesis would be that there is no difference in patients response of Age and Satisfaction:\n",
        "\n",
        "##### Alternate Hypothesis:  \n",
        "\\begin{array}{c}\n",
        "H_A: \\rho_{Age} \\neq \\rho_{Satisfaction}\n",
        "\\end{array}\n",
        "\n",
        "The alternative hypothesis would be that there is a difference in patients response of Age and Satisfaction.\n",
        "\n",
        "In oder to test this hypothesis, we conducted t-test using ttest_ind()"
      ]
    },
    {
      "cell_type": "code",
      "metadata": {
        "id": "6dq_ytZHljca",
        "colab_type": "code",
        "colab": {
          "base_uri": "https://localhost:8080/",
          "height": 52
        },
        "outputId": "7d801e92-a8fe-41ff-ff65-fa92cbaacd1a"
      },
      "source": [
        "from scipy.stats import ttest_ind\n",
        "from scipy import stats\n",
        "ttest,pval = stats.ttest_ind(df['Age'], df['Satisfaction'])\n",
        "print(ttest,pval)\n",
        "if pval < 0.05:\n",
        "  print(\"fail to accept null hypothesis\")\n",
        "else:\n",
        "  print(\"accept null hypothesis\")"
      ],
      "execution_count": 23,
      "outputs": [
        {
          "output_type": "stream",
          "text": [
            "367.2134476748819 0.0\n",
            "fail to accept null hypothesis\n"
          ],
          "name": "stdout"
        }
      ]
    },
    {
      "cell_type": "markdown",
      "metadata": {
        "id": "pL24wYk0w9WZ",
        "colab_type": "text"
      },
      "source": [
        "### Multicollinearity\n",
        "Multicollinearity refers to predictors that are correlated with other predictors. Multicollinearity occurs when model includes multiple factors that are correlated not just to the response variable, but also to each other. In other words, it results when we have factors that are a bit redundant. Sklearn does not have a built-in way to check for multicollinearity\n"
      ]
    },
    {
      "cell_type": "code",
      "metadata": {
        "id": "A5ftTsOjxA3N",
        "colab_type": "code",
        "colab": {
          "base_uri": "https://localhost:8080/",
          "height": 167
        },
        "outputId": "ee77d9a9-d8cb-4ca7-d0f5-117304db9eeb"
      },
      "source": [
        "# Here's the relevant module\n",
        "from statsmodels.stats.outliers_influence import variance_inflation_factor\n",
        "\n",
        "# To make this as easy as possible to use, we declare a variable where we put\n",
        "# all features where we want to check for multicollinearity\n",
        "# since our categorical data is not yet preprocessed, we will only take the numerical ones\n",
        "variables = df[['Age','EaseofUse','Effectiveness','Satisfaction']]\n",
        "\n",
        "# we create a new data frame which will include all the VIFs\n",
        "# note that each variable has its own variance inflation factor as this measure is variable specific (not model specific)\n",
        "vif = pd.DataFrame()\n",
        "\n",
        "# here we make use of the variance_inflation_factor, which will basically output the respective VIFs\n",
        "vif[\"VIF\"] = [variance_inflation_factor(variables.values, i) for i in range(variables.shape[1])]\n",
        "# Finally, I like to include names so it is easier to explore the result\n",
        "vif[\"Features\"] = variables.columns\n",
        "vif"
      ],
      "execution_count": 24,
      "outputs": [
        {
          "output_type": "execute_result",
          "data": {
            "text/html": [
              "<div>\n",
              "<style scoped>\n",
              "    .dataframe tbody tr th:only-of-type {\n",
              "        vertical-align: middle;\n",
              "    }\n",
              "\n",
              "    .dataframe tbody tr th {\n",
              "        vertical-align: top;\n",
              "    }\n",
              "\n",
              "    .dataframe thead th {\n",
              "        text-align: right;\n",
              "    }\n",
              "</style>\n",
              "<table border=\"1\" class=\"dataframe\">\n",
              "  <thead>\n",
              "    <tr style=\"text-align: right;\">\n",
              "      <th></th>\n",
              "      <th>VIF</th>\n",
              "      <th>Features</th>\n",
              "    </tr>\n",
              "  </thead>\n",
              "  <tbody>\n",
              "    <tr>\n",
              "      <th>0</th>\n",
              "      <td>9.113766</td>\n",
              "      <td>Age</td>\n",
              "    </tr>\n",
              "    <tr>\n",
              "      <th>1</th>\n",
              "      <td>15.852152</td>\n",
              "      <td>EaseofUse</td>\n",
              "    </tr>\n",
              "    <tr>\n",
              "      <th>2</th>\n",
              "      <td>23.313341</td>\n",
              "      <td>Effectiveness</td>\n",
              "    </tr>\n",
              "    <tr>\n",
              "      <th>3</th>\n",
              "      <td>18.253835</td>\n",
              "      <td>Satisfaction</td>\n",
              "    </tr>\n",
              "  </tbody>\n",
              "</table>\n",
              "</div>"
            ],
            "text/plain": [
              "         VIF       Features\n",
              "0   9.113766            Age\n",
              "1  15.852152      EaseofUse\n",
              "2  23.313341  Effectiveness\n",
              "3  18.253835   Satisfaction"
            ]
          },
          "metadata": {
            "tags": []
          },
          "execution_count": 24
        }
      ]
    },
    {
      "cell_type": "markdown",
      "metadata": {
        "id": "efGvHc2mxDg1",
        "colab_type": "text"
      },
      "source": [
        "Looking at the result of variance inflation factor, all numerical features have high multicolinearity. However, the VIF of Effectiveness is highest, so we will remove it from the model."
      ]
    },
    {
      "cell_type": "code",
      "metadata": {
        "id": "ecSPY7c1xGiB",
        "colab_type": "code",
        "colab": {
          "base_uri": "https://localhost:8080/",
          "height": 197
        },
        "outputId": "215e09db-d507-484c-8ef3-34ad6ac9c661"
      },
      "source": [
        "#drop effectiveness\n",
        "df = df.drop(['Effectiveness'],axis=1)\n",
        "#display new dataframe\n",
        "df.head()"
      ],
      "execution_count": 25,
      "outputs": [
        {
          "output_type": "execute_result",
          "data": {
            "text/html": [
              "<div>\n",
              "<style scoped>\n",
              "    .dataframe tbody tr th:only-of-type {\n",
              "        vertical-align: middle;\n",
              "    }\n",
              "\n",
              "    .dataframe tbody tr th {\n",
              "        vertical-align: top;\n",
              "    }\n",
              "\n",
              "    .dataframe thead th {\n",
              "        text-align: right;\n",
              "    }\n",
              "</style>\n",
              "<table border=\"1\" class=\"dataframe\">\n",
              "  <thead>\n",
              "    <tr style=\"text-align: right;\">\n",
              "      <th></th>\n",
              "      <th>Age</th>\n",
              "      <th>Condition</th>\n",
              "      <th>Drug</th>\n",
              "      <th>EaseofUse</th>\n",
              "      <th>Satisfaction</th>\n",
              "      <th>Sex</th>\n",
              "      <th>Age_group</th>\n",
              "      <th>Age_group_label</th>\n",
              "    </tr>\n",
              "  </thead>\n",
              "  <tbody>\n",
              "    <tr>\n",
              "      <th>0</th>\n",
              "      <td>20</td>\n",
              "      <td>Neuropathic Pain</td>\n",
              "      <td>oxycodone</td>\n",
              "      <td>1</td>\n",
              "      <td>1</td>\n",
              "      <td>Female</td>\n",
              "      <td>(0, 20]</td>\n",
              "      <td>1</td>\n",
              "    </tr>\n",
              "    <tr>\n",
              "      <th>1</th>\n",
              "      <td>20</td>\n",
              "      <td>Neuropathic Pain</td>\n",
              "      <td>oxycodone</td>\n",
              "      <td>4</td>\n",
              "      <td>4</td>\n",
              "      <td>Male</td>\n",
              "      <td>(0, 20]</td>\n",
              "      <td>1</td>\n",
              "    </tr>\n",
              "    <tr>\n",
              "      <th>2</th>\n",
              "      <td>20</td>\n",
              "      <td>Neuropathic Pain</td>\n",
              "      <td>oxycodone</td>\n",
              "      <td>4</td>\n",
              "      <td>4</td>\n",
              "      <td>Male</td>\n",
              "      <td>(0, 20]</td>\n",
              "      <td>1</td>\n",
              "    </tr>\n",
              "    <tr>\n",
              "      <th>3</th>\n",
              "      <td>20</td>\n",
              "      <td>Neuropathic Pain</td>\n",
              "      <td>oxycodone</td>\n",
              "      <td>3</td>\n",
              "      <td>4</td>\n",
              "      <td>Female</td>\n",
              "      <td>(0, 20]</td>\n",
              "      <td>1</td>\n",
              "    </tr>\n",
              "    <tr>\n",
              "      <th>4</th>\n",
              "      <td>20</td>\n",
              "      <td>Neuropathic Pain</td>\n",
              "      <td>oxycodone</td>\n",
              "      <td>5</td>\n",
              "      <td>5</td>\n",
              "      <td>Female</td>\n",
              "      <td>(0, 20]</td>\n",
              "      <td>1</td>\n",
              "    </tr>\n",
              "  </tbody>\n",
              "</table>\n",
              "</div>"
            ],
            "text/plain": [
              "   Age         Condition       Drug  ...     Sex  Age_group Age_group_label\n",
              "0   20  Neuropathic Pain  oxycodone  ...  Female    (0, 20]               1\n",
              "1   20  Neuropathic Pain  oxycodone  ...    Male    (0, 20]               1\n",
              "2   20  Neuropathic Pain  oxycodone  ...    Male    (0, 20]               1\n",
              "3   20  Neuropathic Pain  oxycodone  ...  Female    (0, 20]               1\n",
              "4   20  Neuropathic Pain  oxycodone  ...  Female    (0, 20]               1\n",
              "\n",
              "[5 rows x 8 columns]"
            ]
          },
          "metadata": {
            "tags": []
          },
          "execution_count": 25
        }
      ]
    },
    {
      "cell_type": "markdown",
      "metadata": {
        "id": "XeWAu8N1iiNR",
        "colab_type": "text"
      },
      "source": [
        "# **MACHINE LEARNING MODELING**"
      ]
    },
    {
      "cell_type": "markdown",
      "metadata": {
        "id": "VN5a0Pw8MJ3-",
        "colab_type": "text"
      },
      "source": [
        "## Create dummy variable\n",
        "To include the categorical data in the regression, let's create dummy variable encoding on nominal features using a very 'convenient method called: get_dummies' which does that seemlessly. It is extremely important that we drop one of the dummies, alternatively will introduce multicollinearity."
      ]
    },
    {
      "cell_type": "code",
      "metadata": {
        "id": "xLv_OpzPqmOp",
        "colab_type": "code",
        "colab": {}
      },
      "source": [
        "df2 = pd.get_dummies(df[['Age','EaseofUse','Satisfaction','Sex']], drop_first=True)\n",
        "\n",
        "# Concatenated with a Drug label on transformed dataframe: \n",
        "df = pd.concat([df2, df['Drug']], axis=1)"
      ],
      "execution_count": 26,
      "outputs": []
    },
    {
      "cell_type": "markdown",
      "metadata": {
        "id": "7AsS2is6M9hK",
        "colab_type": "text"
      },
      "source": [
        "## Split input features and output label\n",
        "Using split_train_test function partition original data into training and test sets for training and evaluation of any machine learning modeling task.  \n",
        "After partitioning the data, we feature scale, the features to re-scale them into a similar range on each feature using scaler function.\n"
      ]
    },
    {
      "cell_type": "code",
      "metadata": {
        "id": "5ruExE1BwDCZ",
        "colab_type": "code",
        "colab": {}
      },
      "source": [
        "#Split train and test\n",
        "X=df.drop('Drug', axis=1)\n",
        "#Feature Scaling\n",
        "scaler=StandardScaler()\n",
        "X=scaler.fit_transform(X)\n",
        "\n",
        "y=df['Drug']\n",
        "#encoding the categical classes using label encoder\n",
        "lab_enc = preprocessing.LabelEncoder()\n",
        "y=lab_enc.fit_transform(y)\n",
        "y = y.astype(np.int)\n",
        "\n",
        "X_train, X_test, y_train, y_test = train_test_split(X,y,test_size = 0.25,stratify=y)"
      ],
      "execution_count": 27,
      "outputs": []
    },
    {
      "cell_type": "markdown",
      "metadata": {
        "id": "e1j3wlOJQZVj",
        "colab_type": "text"
      },
      "source": [
        "## **Data Modeling**"
      ]
    },
    {
      "cell_type": "markdown",
      "metadata": {
        "id": "JaDjXFET10vx",
        "colab_type": "text"
      },
      "source": [
        "We modeled the data using different classification: Decission Tree, Random Forest, Gradient Boosting, XGBoosting, Extra tree and KNeighbors classifiers and the best model performance out of six will be selected.  \n",
        "\n",
        "#### Tune Hyperparameters for Classification\n",
        "Machine learning algorithms have hyperparameters that allow us to tailor the behavior of the algorithm to your specific dataset. In order to find out the best hyperparameters, we modeled cross-validation on the training dataset and create hyperparameter options then selected the best hyperparameter."
      ]
    },
    {
      "cell_type": "markdown",
      "metadata": {
        "id": "x2lorwKc3Zf4",
        "colab_type": "text"
      },
      "source": [
        "### Logistic Regression\n",
        "Logistic regression works by using a logit function to transform input value of features and calculate estimated probabilities of a label in range of [0,1]."
      ]
    },
    {
      "cell_type": "code",
      "metadata": {
        "id": "za_76seq3Zrj",
        "colab_type": "code",
        "colab": {
          "base_uri": "https://localhost:8080/",
          "height": 52
        },
        "outputId": "4ccb0bf0-ac9a-42cb-f1eb-4c506d17968a"
      },
      "source": [
        "# Model: Logistic Regression\n",
        "lr_cv = LogisticRegression(C=0.1,penalty='l2',random_state=0)\n",
        "lr_cv.fit(X_train, y_train)\n",
        "\n",
        "# Hyperparameters Tuning:\n",
        "###############################################################################\n",
        "# RandomizedSearchCV: LogisticRegression #\n",
        "# Create hyperparameter options:\n",
        "param_dist = dict(C=randint(2,100), penalty=['l1','l2'])\n",
        "random_search = RandomizedSearchCV(estimator=lr_cv, param_distributions=param_dist, random_state=0, n_iter=100, cv=4)\n",
        "random_search_lr = random_search.fit(X_train, y_train)\n",
        "\n",
        "# View best hyperparameters\n",
        "print('Best Penalty:', random_search_lr.best_estimator_.get_params()['penalty'])\n",
        "print('Best C:', random_search_lr.best_estimator_.get_params()['C'])\n"
      ],
      "execution_count": 29,
      "outputs": [
        {
          "output_type": "stream",
          "text": [
            "Best Penalty: l2\n",
            "Best C: 46\n"
          ],
          "name": "stdout"
        }
      ]
    },
    {
      "cell_type": "code",
      "metadata": {
        "id": "fyYjfYvp57F8",
        "colab_type": "code",
        "colab": {}
      },
      "source": [
        "lr= LogisticRegression(C=46,penalty='l2',random_state=0)\n",
        "lr.fit(X_train, y_train)\n",
        "y_lr_pred = lr.predict(X_test);"
      ],
      "execution_count": 31,
      "outputs": []
    },
    {
      "cell_type": "markdown",
      "metadata": {
        "id": "z0jqc62c3aKW",
        "colab_type": "text"
      },
      "source": [
        "### Support vector machine\n",
        "\n",
        "Support Vector Machine is used for both regression and classification tasks. In SVM algorithm is to find a hyperplane in an n-dimensional space(n: the number of features) that distinctly classifies the data points. Hyperplanes are decision boundaries that help classify the data points. "
      ]
    },
    {
      "cell_type": "code",
      "metadata": {
        "id": "nLOsag3g3d1h",
        "colab_type": "code",
        "colab": {
          "base_uri": "https://localhost:8080/",
          "height": 87
        },
        "outputId": "0eb2a21e-7329-4851-aef1-f601c81a114c"
      },
      "source": [
        "# Model: support vector machine\n",
        "svm_cv = SVC(C=1.0, kernel='rbf', degree=3, gamma='scale', coef0=0.0, shrinking=True, probability=False, tol=0.001, \n",
        "                                 random_state=0)\n",
        "svm_cv.fit(X_train, y_train)\n",
        "\n",
        "# Hyperparameters Tuning: Create hyperparameter options\n",
        "param_dist_svm = {\"C\": randint(1, 100),\n",
        "                  \"kernel\": ['linear', 'poly', 'rbf', 'sigmoid'],\n",
        "                  \"gamma\": ['scale', 'auto'],\n",
        "                  \"shrinking\":[True, False],\n",
        "                  }\n",
        "random_search = RandomizedSearchCV(estimator=svm_cv, param_distributions=param_dist_svm, random_state=0, n_iter=100, cv=4)\n",
        "random_search_svm = random_search.fit(X_train, y_train)\n",
        "\n",
        "# View best hyperparameters\n",
        "print('Best shrinking:', random_search_svm.best_estimator_.get_params()['shrinking'])\n",
        "print('Best gamma:', random_search_svm.best_estimator_.get_params()['gamma'])\n",
        "print('Best kernel:', random_search_svm.best_estimator_.get_params()['kernel'])\n",
        "print('Best C:', random_search_svm.best_estimator_.get_params()['C'])"
      ],
      "execution_count": 36,
      "outputs": [
        {
          "output_type": "stream",
          "text": [
            "Best shrinking: True\n",
            "Best gamma: auto\n",
            "Best kernel: rbf\n",
            "Best C: 94\n"
          ],
          "name": "stdout"
        }
      ]
    },
    {
      "cell_type": "code",
      "metadata": {
        "id": "9CcEC6DF9-II",
        "colab_type": "code",
        "colab": {}
      },
      "source": [
        "svm = SVC(C=94, kernel='rbf', degree=3, gamma='auto', coef0=0.0, shrinking=True, probability=False, tol=0.001, random_state=0)\n",
        "svm.fit(X_train, y_train)\n",
        "y_svm_pred = svm.predict(X_test);\n"
      ],
      "execution_count": 40,
      "outputs": []
    },
    {
      "cell_type": "markdown",
      "metadata": {
        "id": "4BlIco8xEW-B",
        "colab_type": "text"
      },
      "source": [
        "### Decision Tree Classifier"
      ]
    },
    {
      "cell_type": "markdown",
      "metadata": {
        "id": "RhMcqSkPUrLg",
        "colab_type": "text"
      },
      "source": [
        "Decision tree is a Supervised Machine Learning where the data is continuously split according to a certain parameter. Decision tree classifier: using the decision algorithm, we start at the tree root and split the data on the feature that results in the largest information gain (IG). In an iterative process, we can then repeat this splitting procedure at each child node until the leaves are pure.\n"
      ]
    },
    {
      "cell_type": "code",
      "metadata": {
        "id": "KROygY2zi3e3",
        "colab_type": "code",
        "colab": {
          "base_uri": "https://localhost:8080/",
          "height": 105
        },
        "outputId": "8d462a38-cc9a-43fd-aefd-6855a87cd7d1"
      },
      "source": [
        "# Model: DecisionTree [cross-validated train set]\n",
        "tree_cv = DecisionTreeClassifier(criterion='gini', max_depth=8, min_samples_split=2, min_samples_leaf=2, random_state=0)\n",
        "tree_cv.fit(X_train, y_train)\n",
        "\n",
        "# Hyperparameters Tuning: Create hyperparameter options\n",
        "param_dist_dt = {\"criterion\": [\"gini\", \"entropy\"],\n",
        "                  \"max_depth\": randint(10, 100),\n",
        "                  \"max_leaf_nodes\": randint(10, 20),\n",
        "                  \"min_samples_split\": randint(2, 10),\n",
        "                  \"min_samples_leaf\": randint(2, 10)}\n",
        "random_search = RandomizedSearchCV(estimator=tree_cv, param_distributions=param_dist_dt, random_state=0, n_iter=100, cv=4)\n",
        "random_search_dt = random_search.fit(X_train, y_train)\n",
        "\n",
        "# View best hyperparameters\n",
        "print('Best min_samples_split:', random_search_dt.best_estimator_.get_params()['min_samples_split'])\n",
        "print('Best min_samples_leaf:', random_search_dt.best_estimator_.get_params()['min_samples_leaf'])\n",
        "print('Best max_leaf_nodes:', random_search_dt.best_estimator_.get_params()['max_leaf_nodes'])\n",
        "print('Best max_depth:', random_search_dt.best_estimator_.get_params()['max_depth'])\n",
        "print('Best criterion:', random_search_dt.best_estimator_.get_params()['criterion'])"
      ],
      "execution_count": 33,
      "outputs": [
        {
          "output_type": "stream",
          "text": [
            "Best min_samples_split: 8\n",
            "Best min_samples_leaf: 5\n",
            "Best max_leaf_nodes: 19\n",
            "Best max_depth: 51\n",
            "Best criterion: entropy\n"
          ],
          "name": "stdout"
        }
      ]
    },
    {
      "cell_type": "code",
      "metadata": {
        "id": "BBn5nl9RwDDS",
        "colab_type": "code",
        "colab": {
          "base_uri": "https://localhost:8080/",
          "height": 401
        },
        "outputId": "07781ba9-351d-47a8-b665-0ec88df27792"
      },
      "source": [
        "tree = DecisionTreeClassifier(criterion='entropy', max_depth=51, min_samples_split=8, min_samples_leaf=5, max_leaf_nodes=19,\n",
        "                               random_state=0)\n",
        "feat_labels = df.columns[:-1]\n",
        "tree.fit(X_train, y_train)\n",
        "y_tree_pred = tree.predict(X_test);\n",
        "importances = tree.feature_importances_\n",
        "indices = np.argsort(importances)[::-1]\n",
        "\n",
        "for f in range(X_train.shape[1]):\n",
        "  print(\"%2d) %-*s %f\" % (f + 1, 30,  feat_labels[indices[f]], importances[indices[f]]))\n",
        "\n",
        "plt.title('Feature Importance: Decision Tree')\n",
        "plt.bar(range(X_train.shape[1]), importances[indices],  align='center')\n",
        "plt.xticks(range(X_train.shape[1]), feat_labels[indices], rotation=90)\n",
        "plt.xlim(-1, X_train.shape[1])\n",
        "plt.show()"
      ],
      "execution_count": 57,
      "outputs": [
        {
          "output_type": "stream",
          "text": [
            " 1) Satisfaction                   0.511854\n",
            " 2) Sex_Male                       0.192157\n",
            " 3) Age                            0.152334\n",
            " 4) EaseofUse                      0.143655\n"
          ],
          "name": "stdout"
        },
        {
          "output_type": "display_data",
          "data": {
            "image/png": "[encoded data removed]",
            "text/plain": [
              "<Figure size 432x288 with 1 Axes>"
            ]
          },
          "metadata": {
            "tags": [],
            "needs_background": "light"
          }
        }
      ]
    },
    {
      "cell_type": "markdown",
      "metadata": {
        "id": "l5RNzkUi24WU",
        "colab_type": "text"
      },
      "source": [
        "### Random Forest Classifier\n",
        "\n",
        "random forest is comprised of trees that the more trees it has, the more robust a forest is. Random forests creates decision trees on randomly selected data samples, gets prediction from each tree and selects the best solution by means of voting. \n",
        "\n",
        "\n"
      ]
    },
    {
      "cell_type": "code",
      "metadata": {
        "id": "5Kqc4iE3RKzM",
        "colab_type": "code",
        "colab": {}
      },
      "source": [
        "# Model: RandomForest [cross-validated and train set]\n",
        "rf_cv = RandomForestClassifier(criterion='gini',n_estimators=50, max_depth=1, min_samples_split=2, random_state=0, n_jobs=1)\n",
        "rf_cv.fit(X_train, y_train)\n",
        "\n",
        "# Hyperparameters Tuning: Create hyperparameter options\n",
        "param_dist_rf = {\"n_estimators\": randint(20, 200), \n",
        "                 \"max_depth\": randint(10, 100),\n",
        "                  \"min_samples_split\": randint(2, 10),\n",
        "                  \"min_samples_leaf\": randint(2, 10),\n",
        "                  \"bootstrap\": [True, False],\n",
        "                  \"criterion\": [\"gini\", \"entropy\"]}\n",
        "random_search = RandomizedSearchCV(estimator=rf_cv, param_distributions=param_dist_rf, random_state=0, n_iter=100, cv=4)\n",
        "random_search_rf = random_search.fit(X_train, y_train)\n",
        "\n",
        "# View best hyperparameters\n",
        "print('Best n_estimators:', random_search_rf.best_estimator_.get_params()['n_estimators'])\n",
        "print('Best max_depth:', random_search_rf.best_estimator_.get_params()['max_depth'])\n",
        "print('Best min_samples_split:', random_search_rf.best_estimator_.get_params()['min_samples_split'])\n",
        "print('Best bootstrap:', random_search_rf.best_estimator_.get_params()['bootstrap'])\n",
        "print('Best min_samples_leaf:', random_search_rf.best_estimator_.get_params()['min_samples_leaf'])"
      ],
      "execution_count": null,
      "outputs": []
    },
    {
      "cell_type": "code",
      "metadata": {
        "id": "8Qfm1qxRwDDY",
        "colab_type": "code",
        "colab": {
          "base_uri": "https://localhost:8080/",
          "height": 401
        },
        "outputId": "679b4e0e-b0e3-437e-c541-90b21549e2f1"
      },
      "source": [
        "# Model prediction: Using a Random Forest:\n",
        "rf = RandomForestClassifier(criterion='entropy', max_depth=33, min_samples_split=6, min_samples_leaf=2, n_estimators=120, \n",
        "                            bootstrap= True,random_state=0)\n",
        "rf.fit(X_train, y_train)\n",
        "y_rf_pred = rf.predict(X_test);\n",
        "feat_labels = df.columns[:-1]\n",
        "importances = rf.feature_importances_\n",
        "indices = np.argsort(importances)[::-1]\n",
        "\n",
        "for f in range(X_train.shape[1]):\n",
        "  print(\"%2d) %-*s %f\" % (f + 1, 30, feat_labels[indices[f]], importances[indices[f]]))\n",
        "\n",
        "plt.figure()    \n",
        "plt.title('Feature Importance: Random Forest')\n",
        "plt.bar(range(X_train.shape[1]), importances[indices], align='center')\n",
        "plt.xticks(range(X_train.shape[1]), feat_labels[indices], rotation=90)\n",
        "plt.xlim(-1, X_train.shape[1])\n",
        "plt.show()"
      ],
      "execution_count": 58,
      "outputs": [
        {
          "output_type": "stream",
          "text": [
            " 1) Age                            0.397308\n",
            " 2) Satisfaction                   0.268465\n",
            " 3) EaseofUse                      0.245800\n",
            " 4) Sex_Male                       0.088427\n"
          ],
          "name": "stdout"
        },
        {
          "output_type": "display_data",
          "data": {
            "image/png": "[encoded data removed]",
            "text/plain": [
              "<Figure size 432x288 with 1 Axes>"
            ]
          },
          "metadata": {
            "tags": [],
            "needs_background": "light"
          }
        }
      ]
    },
    {
      "cell_type": "markdown",
      "metadata": {
        "id": "5lP8aNwWHNBK",
        "colab_type": "text"
      },
      "source": [
        "### KNeighbors Classifier\n",
        "The KNN algorithm assumes that similar things exist in close proximity. It involves three steps: calculating the distance between points, finding the closest neighbors and voting for the labels."
      ]
    },
    {
      "cell_type": "code",
      "metadata": {
        "id": "JvEBBkfWwDD5",
        "colab_type": "code",
        "colab": {
          "base_uri": "https://localhost:8080/",
          "height": 558
        },
        "outputId": "0abfeef2-c723-46bc-fd17-03c269e1b76a"
      },
      "source": [
        "knn = KNeighborsClassifier(3)\n",
        "knn.fit(X_train, y_train)\n",
        "y_knn_pred = knn.predict(X_test)\n",
        "sk_report = classification_report(digits=3, y_true=y_test, y_pred=y_knn_pred)\n",
        "print('KNeighborsClassifier Result')\n",
        "print(sk_report)\n",
        "print('roc_auc_score of KNeighborsClassifier is: '+str(roc_auc_score(y_test, y_knn_pred)))"
      ],
      "execution_count": 44,
      "outputs": [
        {
          "output_type": "stream",
          "text": [
            "KNeighborsClassifier Result\n",
            "              precision    recall  f1-score   support\n",
            "\n",
            "           0      0.283     0.383     0.326       496\n",
            "           1      0.357     0.349     0.353       498\n",
            "           2      0.330     0.290     0.308       497\n",
            "           3      0.439     0.347     0.388       498\n",
            "\n",
            "    accuracy                          0.342      1989\n",
            "   macro avg      0.352     0.342     0.344      1989\n",
            "weighted avg      0.352     0.342     0.344      1989\n",
            "\n"
          ],
          "name": "stdout"
        },
        {
          "output_type": "error",
          "ename": "ValueError",
          "evalue": "ignored",
          "traceback": [
            "\u001b[0;31m---------------------------------------------------------------------------\u001b[0m",
            "\u001b[0;31mValueError\u001b[0m                                Traceback (most recent call last)",
            "\u001b[0;32m<ipython-input-44-f9038aae8484>\u001b[0m in \u001b[0;36m<module>\u001b[0;34m()\u001b[0m\n\u001b[1;32m      5\u001b[0m \u001b[0mprint\u001b[0m\u001b[0;34m(\u001b[0m\u001b[0;34m'KNeighborsClassifier Result'\u001b[0m\u001b[0;34m)\u001b[0m\u001b[0;34m\u001b[0m\u001b[0;34m\u001b[0m\u001b[0m\n\u001b[1;32m      6\u001b[0m \u001b[0mprint\u001b[0m\u001b[0;34m(\u001b[0m\u001b[0msk_report\u001b[0m\u001b[0;34m)\u001b[0m\u001b[0;34m\u001b[0m\u001b[0;34m\u001b[0m\u001b[0m\n\u001b[0;32m----> 7\u001b[0;31m \u001b[0mprint\u001b[0m\u001b[0;34m(\u001b[0m\u001b[0;34m'roc_auc_score of KNeighborsClassifier is: '\u001b[0m\u001b[0;34m+\u001b[0m\u001b[0mstr\u001b[0m\u001b[0;34m(\u001b[0m\u001b[0mroc_auc_score\u001b[0m\u001b[0;34m(\u001b[0m\u001b[0my_test\u001b[0m\u001b[0;34m,\u001b[0m \u001b[0my_knn_pred\u001b[0m\u001b[0;34m)\u001b[0m\u001b[0;34m)\u001b[0m\u001b[0;34m)\u001b[0m\u001b[0;34m\u001b[0m\u001b[0;34m\u001b[0m\u001b[0m\n\u001b[0m",
            "\u001b[0;32m/usr/local/lib/python3.6/dist-packages/sklearn/metrics/_ranking.py\u001b[0m in \u001b[0;36mroc_auc_score\u001b[0;34m(y_true, y_score, average, sample_weight, max_fpr, multi_class, labels)\u001b[0m\n\u001b[1;32m    379\u001b[0m                              \"instead\".format(max_fpr))\n\u001b[1;32m    380\u001b[0m         \u001b[0;32mif\u001b[0m \u001b[0mmulti_class\u001b[0m \u001b[0;34m==\u001b[0m \u001b[0;34m'raise'\u001b[0m\u001b[0;34m:\u001b[0m\u001b[0;34m\u001b[0m\u001b[0;34m\u001b[0m\u001b[0m\n\u001b[0;32m--> 381\u001b[0;31m             \u001b[0;32mraise\u001b[0m \u001b[0mValueError\u001b[0m\u001b[0;34m(\u001b[0m\u001b[0;34m\"multi_class must be in ('ovo', 'ovr')\"\u001b[0m\u001b[0;34m)\u001b[0m\u001b[0;34m\u001b[0m\u001b[0;34m\u001b[0m\u001b[0m\n\u001b[0m\u001b[1;32m    382\u001b[0m         return _multiclass_roc_auc_score(y_true, y_score, labels,\n\u001b[1;32m    383\u001b[0m                                          multi_class, average, sample_weight)\n",
            "\u001b[0;31mValueError\u001b[0m: multi_class must be in ('ovo', 'ovr')"
          ]
        }
      ]
    },
    {
      "cell_type": "markdown",
      "metadata": {
        "id": "t2H5M8VTHzGA",
        "colab_type": "text"
      },
      "source": [
        "In order to address the issue of the above error \"ValueError: multiclass format is not supported\" we converted the target class Label binarizer using the following function."
      ]
    },
    {
      "cell_type": "code",
      "metadata": {
        "id": "SXQ83EkTHrs6",
        "colab_type": "code",
        "colab": {}
      },
      "source": [
        "def multiclass_roc_auc_score(y_test,y_pred,average=\"macro\"):\n",
        "  lb = preprocessing.LabelBinarizer()\n",
        "  lb.fit(y_test)\n",
        "  y_test=lb.transform(y_test)\n",
        "  y_pred=lb.transform(y_pred)\n",
        "  return roc_auc_score(y_test,y_pred,average=average)"
      ],
      "execution_count": 45,
      "outputs": []
    },
    {
      "cell_type": "code",
      "metadata": {
        "id": "RB79oRETH49d",
        "colab_type": "code",
        "colab": {
          "base_uri": "https://localhost:8080/",
          "height": 34
        },
        "outputId": "a90d587a-a572-4151-e8d5-0f75d53a99c0"
      },
      "source": [
        "print('roc_auc_score of KNeighborsClassifier is: '+str(multiclass_roc_auc_score(y_test, y_knn_pred)))"
      ],
      "execution_count": 46,
      "outputs": [
        {
          "output_type": "stream",
          "text": [
            "roc_auc_score of KNeighborsClassifier is: 0.5616112972044078\n"
          ],
          "name": "stdout"
        }
      ]
    },
    {
      "cell_type": "markdown",
      "metadata": {
        "id": "bBR3nArnG4z2",
        "colab_type": "text"
      },
      "source": [
        "Compare the accuracy the models so far."
      ]
    },
    {
      "cell_type": "code",
      "metadata": {
        "id": "ETCkhnZiG5HD",
        "colab_type": "code",
        "colab": {
          "base_uri": "https://localhost:8080/",
          "height": 105
        },
        "outputId": "5ada6a59-1889-4ccb-d00f-62b0e3d33684"
      },
      "source": [
        "names = [\"Logistic Regression\", \"Support Vector Machine\",\"Decision Tree\", \"Random Forest\", \"KNeighbors\", ]\n",
        "\n",
        "classifiers = [\n",
        "    LogisticRegression(C=46,penalty='l2',random_state=0),\n",
        "    SVC(C=94, kernel='rbf', degree=3, gamma='auto', coef0=0.0, shrinking=True, probability=False, tol=0.001, random_state=0),\n",
        "    DecisionTreeClassifier(criterion='entropy', max_depth=51, min_samples_split=8, min_samples_leaf=5, max_leaf_nodes=19,\n",
        "                               random_state=0),\n",
        "    RandomForestClassifier(criterion='entropy', max_depth=33, min_samples_split=6, min_samples_leaf=2, n_estimators=120, \n",
        "                            bootstrap= True,random_state=0),\n",
        "    KNeighborsClassifier(3)\n",
        "    ]\n",
        "\n",
        "res = []\n",
        "res2 = []\n",
        "for name, clf in zip(names, classifiers):\n",
        "    clf.fit(X_train, y_train)\n",
        "    res.append(clf.predict(X_test))\n",
        "    temp = clf.predict(X_train)\n",
        "    res2.append(temp)\n",
        "    print(name, \" : \", accuracy_score(y_train, temp))"
      ],
      "execution_count": 49,
      "outputs": [
        {
          "output_type": "stream",
          "text": [
            "Logistic Regression  :  0.3440643863179074\n",
            "Support Vector Machine  :  0.42873910127431253\n",
            "Decision Tree  :  0.36351441985244803\n",
            "Random Forest  :  0.4500335345405768\n",
            "KNeighbors  :  0.36217303822937624\n"
          ],
          "name": "stdout"
        }
      ]
    },
    {
      "cell_type": "markdown",
      "metadata": {
        "id": "c7IwLnv3SjWg",
        "colab_type": "text"
      },
      "source": [
        "Looking at the model accuracies above, Decision Tree and Random Forest performs well compared to othe models (Logistic Regression, Support Vector Machine and KNeighbors Classifier). Hence, let's explore more with an ensemble of decision trees and other related ensembles of decision trees algorithms. "
      ]
    },
    {
      "cell_type": "markdown",
      "metadata": {
        "id": "VG--MeTL3JpV",
        "colab_type": "text"
      },
      "source": [
        "### Gradient Boosting Classifier\n",
        "Gradient Boosting Classifiers are a group of machine learning algorithms that combine many weak learning models together to create a strong predictive model. The idea behind is to take a weak hypothesis or weak learning algorithm and make a series of tweaks to it that will improve the strength of the hypothesis/learner based on the idea of Probability Approximately Correct Learning (PAC).\n",
        "\n",
        "\n",
        " "
      ]
    },
    {
      "cell_type": "code",
      "metadata": {
        "id": "fs8k9zAj3HVt",
        "colab_type": "code",
        "colab": {
          "base_uri": "https://localhost:8080/",
          "height": 87
        },
        "outputId": "94219f38-a950-48b6-d9fc-e5d8dd22f8dd"
      },
      "source": [
        "# Model: Gradient Boosting Classifier [cross-validated and train set]\n",
        "gbc_cv = GradientBoostingClassifier(criterion='mse',n_estimators=50, max_depth=1, min_samples_split=2, random_state=0)\n",
        "gbc_cv.fit(X_train, y_train)\n",
        "\n",
        "# Hyperparameters Tuning: Create hyperparameter options\n",
        "param_dist_gbc = {\"n_estimators\": randint(20, 200), \n",
        "                 \"max_depth\": randint(10, 100),\n",
        "                 \"min_samples_split\": randint(2, 10),\n",
        "                 \"min_samples_leaf\": randint(2, 10),\n",
        "                 \"criterion\": [\"friedman_mse\", \"mse\", \"mae\"]}\n",
        "random_search = RandomizedSearchCV(estimator=gbc_cv, param_distributions=param_dist_gbc, random_state=0, n_iter=100, cv=4)\n",
        "random_search_gbc = random_search.fit(X_train, y_train)\n",
        "\n",
        "# View best hyperparameters\n",
        "print('Best n_estimators:', random_search_gbc.best_estimator_.get_params()['n_estimators'])\n",
        "print('Best max_depth:', random_search_gbc.best_estimator_.get_params()['max_depth'])\n",
        "print('Best min_samples_split:', random_search_gbc.best_estimator_.get_params()['min_samples_split'])\n",
        "print('Best min_samples_leaf:', random_search_gbc.best_estimator_.get_params()['min_samples_leaf'])"
      ],
      "execution_count": 46,
      "outputs": [
        {
          "output_type": "stream",
          "text": [
            "Best n_estimators: 159\n",
            "Best max_depth: 89\n",
            "Best min_samples_split: 7\n",
            "Best min_samples_leaf: 9\n"
          ],
          "name": "stdout"
        }
      ]
    },
    {
      "cell_type": "code",
      "metadata": {
        "id": "lG_ik9lawDDc",
        "colab_type": "code",
        "colab": {
          "base_uri": "https://localhost:8080/",
          "height": 401
        },
        "outputId": "b7f8f88a-3a4c-4d6d-8622-84cf25b80872"
      },
      "source": [
        "# Feature Selection: Using a Gradient Boosting Classifier:\n",
        "gbc = GradientBoostingClassifier(criterion='mse', max_depth=89, min_samples_split=7, min_samples_leaf=9, n_estimators=159, \n",
        "                            random_state=0)\n",
        "gbc.fit(X_train, y_train)\n",
        "y_gbc_pred = gbc.predict(X_test)\n",
        "feat_labels = df.columns[:-1]\n",
        "importances = gbc.feature_importances_\n",
        "indices = np.argsort(importances)[::-1]\n",
        "\n",
        "for f in range(X_train.shape[1]):\n",
        "  print(\"%2d) %-*s %f\" % (f + 1, 30, feat_labels[indices[f]], importances[indices[f]]))\n",
        "\n",
        "plt.figure()    \n",
        "plt.title('Feature Importance: Gradient Boosting')\n",
        "plt.bar(range(X_train.shape[1]), importances[indices], align='center')\n",
        "plt.xticks(range(X_train.shape[1]), feat_labels[indices], rotation=90)\n",
        "plt.xlim(-1, X_train.shape[1])\n",
        "plt.show()"
      ],
      "execution_count": 50,
      "outputs": [
        {
          "output_type": "stream",
          "text": [
            " 1) Satisfaction                   0.332863\n",
            " 2) Age                            0.272338\n",
            " 3) EaseofUse                      0.272107\n",
            " 4) Sex_Male                       0.122692\n"
          ],
          "name": "stdout"
        },
        {
          "output_type": "display_data",
          "data": {
            "image/png": "[encoded data removed]",
            "text/plain": [
              "<Figure size 432x288 with 1 Axes>"
            ]
          },
          "metadata": {
            "tags": [],
            "needs_background": "light"
          }
        }
      ]
    },
    {
      "cell_type": "markdown",
      "metadata": {
        "id": "3IitN2Et3Rp7",
        "colab_type": "text"
      },
      "source": [
        "### XGBoost Classifier\n",
        "XGBoost (eXtreme Gradient Boosting) is an advanced implementation of gradient boosting algorithm designed to be highly efficient, flexible and portable."
      ]
    },
    {
      "cell_type": "code",
      "metadata": {
        "id": "-wxWpvlR7CyA",
        "colab_type": "code",
        "colab": {
          "base_uri": "https://localhost:8080/",
          "height": 105
        },
        "outputId": "dc70e185-736a-4ddb-9fe9-3ba934068da7"
      },
      "source": [
        "# Model: XGBClassifier [cross-validated and standardization of train set]\n",
        "xgb_cv = XGBClassifier(n_estimators=50, learning_rate=0.2, max_depth=1, random_state=0, n_jobs=1)\n",
        "xgb_cv.fit(X_train, y_train)\n",
        "\n",
        "# Hyperparameters Tuning: Create hyperparameter options:\n",
        "param_dist_xgb = {\"n_estimators\": randint(20, 200), \n",
        "                 \"max_depth\": randint(10, 100),\n",
        "                  \"learning_rate\": np.random.uniform(0,1,10),\n",
        "                  \"objective\": ['binary:logistic','reg:linear'],\n",
        "                  \"booster\": ['gbtree','gblinear']}\n",
        "random_search = RandomizedSearchCV(estimator=xgb_cv, param_distributions=param_dist_xgb,\n",
        "                                   random_state=0, n_iter=100, cv=4)\n",
        "random_search_xgb = random_search.fit(X_train, y_train)\n",
        "\n",
        "# View best hyperparameters\n",
        "print('Best n_estimators:', random_search_xgb.best_estimator_.get_params()['n_estimators'])\n",
        "print('Best max_depth:', random_search_xgb.best_estimator_.get_params()['max_depth'])\n",
        "print('Best learning_rate:', random_search_xgb.best_estimator_.get_params()['learning_rate'])\n",
        "print('Best objective:', random_search_xgb.best_estimator_.get_params()['objective'])\n",
        "print('Best booster:', random_search_xgb.best_estimator_.get_params()['booster'])\n"
      ],
      "execution_count": 52,
      "outputs": [
        {
          "output_type": "stream",
          "text": [
            "Best n_estimators: 107\n",
            "Best max_depth: 49\n",
            "Best learning_rate: 0.33013449941160644\n",
            "Best objective: multi:softprob\n",
            "Best booster: gbtree\n"
          ],
          "name": "stdout"
        }
      ]
    },
    {
      "cell_type": "code",
      "metadata": {
        "id": "uGwe-ZTDwDDh",
        "colab_type": "code",
        "colab": {
          "base_uri": "https://localhost:8080/",
          "height": 401
        },
        "outputId": "94a055c3-d278-4926-dbf1-ff836f9bba1a"
      },
      "source": [
        "# Model prediction using a XGBClassifier: hold-out test set:  \n",
        "xgb = XGBClassifier(n_estimators=107, learning_rate=0.33, max_depth=49, objective=\"multi:softprob\",  random_state=0)\n",
        "xgb.fit(X_train, y_train)\n",
        "y_xgb_pred = xgb.predict(X_test)\n",
        "feat_labels = df.columns[:-1]\n",
        "importances = xgb.feature_importances_\n",
        "indices = np.argsort(importances)[::-1]\n",
        "\n",
        "for f in range(X_train.shape[1]):\n",
        "  print(\"%2d) %-*s %f\" % (f + 1, 30, feat_labels[indices[f]], importances[indices[f]]))\n",
        "\n",
        "plt.figure()    \n",
        "plt.title('Feature Importance: XGBClassifier')\n",
        "plt.bar(range(X_train.shape[1]), importances[indices], align='center')\n",
        "plt.xticks(range(X_train.shape[1]), feat_labels[indices], rotation=90)\n",
        "plt.xlim(-1, X_train.shape[1])\n",
        "plt.show()"
      ],
      "execution_count": 51,
      "outputs": [
        {
          "output_type": "stream",
          "text": [
            " 1) Satisfaction                   0.301516\n",
            " 2) EaseofUse                      0.258725\n",
            " 3) Sex_Male                       0.248651\n",
            " 4) Age                            0.191107\n"
          ],
          "name": "stdout"
        },
        {
          "output_type": "display_data",
          "data": {
            "image/png": "[encoded data removed]",
            "text/plain": [
              "<Figure size 432x288 with 1 Axes>"
            ]
          },
          "metadata": {
            "tags": [],
            "needs_background": "light"
          }
        }
      ]
    },
    {
      "cell_type": "markdown",
      "metadata": {
        "id": "LejjtG_i3Yr4",
        "colab_type": "text"
      },
      "source": [
        "### Extra Trees Classifier\n",
        "The predictions of the trees are aggregated to yield the final prediction, by majority vote in classification problems and arithmetic average in regression problems.\n"
      ]
    },
    {
      "cell_type": "code",
      "metadata": {
        "id": "vm-hhCOAQHDB",
        "colab_type": "code",
        "colab": {
          "base_uri": "https://localhost:8080/",
          "height": 105
        },
        "outputId": "c05a98c6-c7df-4230-f4e3-c1b681ad658c"
      },
      "source": [
        "# Model: XGBClassifier [cross-validated and standardization of train set]\n",
        "etc_cv = ExtraTreesClassifier(n_estimators=50, criterion='gini', max_depth=1, random_state=0, n_jobs=1)\n",
        "etc_cv.fit(X_train, y_train)\n",
        "\n",
        "# Hyperparameters Tuning: Create hyperparameter options:\n",
        "param_dist_etc = {\"n_estimators\": randint(20, 200), \n",
        "                 \"max_depth\": randint(10, 100),\n",
        "                  \"min_samples_split\": randint(2, 10),\n",
        "                  \"min_samples_leaf\": randint(2, 10),\n",
        "                  \"criterion\": ['gini', 'entropy'],\n",
        "                  \"bootstrap\": ['True','False']}\n",
        "random_search = RandomizedSearchCV(estimator=etc_cv, param_distributions=param_dist_etc,\n",
        "                                   random_state=0, n_iter=100, cv=4)\n",
        "random_search_etc = random_search.fit(X_train, y_train)\n",
        "\n",
        "# View best hyperparameters\n",
        "print('Best n_estimators:', random_search_etc.best_estimator_.get_params()['n_estimators'])\n",
        "print('Best max_depth:', random_search_etc.best_estimator_.get_params()['max_depth'])\n",
        "print('Best criterion:', random_search_etc.best_estimator_.get_params()['criterion'])\n",
        "print('Best min_samples_split:', random_search_etc.best_estimator_.get_params()['min_samples_split'])\n",
        "print('Best min_samples_leaf:', random_search_etc.best_estimator_.get_params()['min_samples_leaf'])\n"
      ],
      "execution_count": 57,
      "outputs": [
        {
          "output_type": "stream",
          "text": [
            "Best n_estimators: 72\n",
            "Best max_depth: 55\n",
            "Best criterion: entropy\n",
            "Best min_samples_split: 4\n",
            "Best min_samples_leaf: 4\n"
          ],
          "name": "stdout"
        }
      ]
    },
    {
      "cell_type": "code",
      "metadata": {
        "id": "_RQz15igwDDn",
        "colab_type": "code",
        "colab": {
          "base_uri": "https://localhost:8080/",
          "height": 401
        },
        "outputId": "0d6680df-3883-43d2-da3e-515b9a4dcd9b"
      },
      "source": [
        "# Feature Selection: Using a Extra Trees Classifier:\n",
        "etc = ExtraTreesClassifier(n_estimators=72, max_depth=55, criterion= 'entropy', min_samples_split=7, min_samples_leaf=9,random_state=0)\n",
        "etc.fit(X_train, y_train)\n",
        "y_etc_pred = etc.predict(X_test)\n",
        "feat_labels = df.columns[:-1]\n",
        "importances = etc.feature_importances_\n",
        "indices = np.argsort(importances)[::-1]\n",
        "\n",
        "for f in range(X_train.shape[1]):\n",
        "  print(\"%2d) %-*s %f\" % (f + 1, 30, feat_labels[indices[f]], importances[indices[f]]))\n",
        "\n",
        "plt.figure()    \n",
        "plt.title('Feature Importance: Extra Trees')\n",
        "plt.bar(range(X_train.shape[1]), importances[indices], align='center')\n",
        "plt.xticks(range(X_train.shape[1]), feat_labels[indices], rotation=90)\n",
        "plt.xlim(-1, X_train.shape[1])\n",
        "plt.show()"
      ],
      "execution_count": 52,
      "outputs": [
        {
          "output_type": "stream",
          "text": [
            " 1) Age                            0.324446\n",
            " 2) Satisfaction                   0.318924\n",
            " 3) EaseofUse                      0.220671\n",
            " 4) Sex_Male                       0.135959\n"
          ],
          "name": "stdout"
        },
        {
          "output_type": "display_data",
          "data": {
            "image/png": "[encoded data removed]",
            "text/plain": [
              "<Figure size 432x288 with 1 Axes>"
            ]
          },
          "metadata": {
            "tags": [],
            "needs_background": "light"
          }
        }
      ]
    },
    {
      "cell_type": "markdown",
      "metadata": {
        "id": "S4IstWE64GOO",
        "colab_type": "text"
      },
      "source": [
        "### Bagging Classifier\n",
        "In bagging classifier the algorithm builds multiple models from randomly taken subsets of train dataset and aggregates learners to build overall stronger learner."
      ]
    },
    {
      "cell_type": "code",
      "metadata": {
        "id": "8OAh1AFOb0vm",
        "colab_type": "code",
        "colab": {
          "base_uri": "https://localhost:8080/",
          "height": 87
        },
        "outputId": "b2beb0da-818c-4b22-f775-17c9bd9b6eb8"
      },
      "source": [
        "# Model: XGBClassifier [cross-validated and standardization of train set]\n",
        "bag_cv = BaggingClassifier(n_estimators=50, max_samples=1.0, max_features=1.0, random_state=0, n_jobs=1)\n",
        "bag_cv.fit(X_train, y_train)\n",
        "\n",
        "# Hyperparameters Tuning: Create hyperparameter options:\n",
        "param_dist_bag = {\"n_estimators\": randint(20, 200), \n",
        "                 \"max_features\": randint(1, 100),\n",
        "                  \"max_samples\": randint(1, 10),\n",
        "                  \"bootstrap\":[True, False]\n",
        "                  }\n",
        "random_search = RandomizedSearchCV(estimator=bag_cv, param_distributions=param_dist_bag,\n",
        "                                   random_state=0, n_iter=100, cv=4)\n",
        "random_search_bag = random_search.fit(X_train, y_train)\n",
        "\n",
        "# View best hyperparameters\n",
        "print('Best n_estimators:', random_search_bag.best_estimator_.get_params()['n_estimators'])\n",
        "print('Best max_features:', random_search_bag.best_estimator_.get_params()['max_features'])\n",
        "print('Best max_samples:', random_search_bag.best_estimator_.get_params()['max_samples'])\n",
        "print('Best bootstrap:', random_search_bag.best_estimator_.get_params()['bootstrap'])\n"
      ],
      "execution_count": 86,
      "outputs": [
        {
          "output_type": "stream",
          "text": [
            "Best n_estimators: 83\n",
            "Best max_features: 1\n",
            "Best max_samples: 7\n",
            "Best bootstrap: True\n"
          ],
          "name": "stdout"
        }
      ]
    },
    {
      "cell_type": "code",
      "metadata": {
        "id": "VnsGGpYdb0sZ",
        "colab_type": "code",
        "colab": {}
      },
      "source": [
        ""
      ],
      "execution_count": null,
      "outputs": []
    },
    {
      "cell_type": "code",
      "metadata": {
        "id": "TYelfSptwDD-",
        "colab_type": "code",
        "colab": {
          "base_uri": "https://localhost:8080/",
          "height": 247
        },
        "outputId": "85f6e10d-8243-4a80-d3d8-b53b2ee70ef4"
      },
      "source": [
        "bag =  BaggingClassifier(n_estimators=83,  max_features=1.0, random_state=0, bootstrap= True)\n",
        "bag.fit(X_train, y_train)\n",
        "y_bag_pred = bag.predict(X_test)\n",
        "sk_report = classification_report(digits=3, y_true=y_test, y_pred=y_bag_pred)\n",
        "print('BaggingClassifier Result')\n",
        "print(sk_report)\n",
        "print('roc_auc_score of BaggingClassifier is: '+str(multiclass_roc_auc_score(y_test, y_bag_pred)))"
      ],
      "execution_count": 88,
      "outputs": [
        {
          "output_type": "stream",
          "text": [
            "BaggingClassifier Result\n",
            "              precision    recall  f1-score   support\n",
            "\n",
            "           0      0.406     0.244     0.305       496\n",
            "           1      0.377     0.311     0.341       498\n",
            "           2      0.391     0.358     0.374       497\n",
            "           3      0.393     0.651     0.490       498\n",
            "\n",
            "    accuracy                          0.391      1989\n",
            "   macro avg      0.392     0.391     0.377      1989\n",
            "weighted avg      0.392     0.391     0.377      1989\n",
            "\n",
            "roc_auc_score of BaggingClassifier is: 0.594003108316858\n"
          ],
          "name": "stdout"
        }
      ]
    },
    {
      "cell_type": "markdown",
      "metadata": {
        "id": "1olbYFXrnSNj",
        "colab_type": "text"
      },
      "source": [
        "## Majority Vote Classifier (Ensemble Learning)"
      ]
    },
    {
      "cell_type": "code",
      "metadata": {
        "id": "9Kw_HL_L0MZy",
        "colab_type": "code",
        "colab": {
          "base_uri": "https://localhost:8080/",
          "height": 176
        },
        "outputId": "8e508862-423e-4ff3-8cf2-54158305e710"
      },
      "source": [
        "names = [\"LogisticRegression\",\"Support Vector Machine\",\"Decision Tree\", \"Random Forest\", \"Gradient Boosting\", \"XGBoost\", \"Extra Tree\", \"KNeighbors\", \"Bagging\"]\n",
        "\n",
        "classifiers = [\n",
        "     LogisticRegression(C=46,penalty='l2',random_state=0),          \n",
        "    SVC(C=94, kernel='rbf', degree=3, gamma='auto', coef0=0.0, shrinking=True, probability=False, tol=0.001, random_state=0),\n",
        "    DecisionTreeClassifier(criterion='entropy', max_depth=51, min_samples_split=8, min_samples_leaf=5, max_leaf_nodes=19,\n",
        "                               random_state=0),\n",
        "    RandomForestClassifier(criterion='entropy', max_depth=33, min_samples_split=6, min_samples_leaf=2, n_estimators=120, \n",
        "                            bootstrap= True,random_state=0),\n",
        "    KNeighborsClassifier(3),\n",
        "    GradientBoostingClassifier(criterion='mse', max_depth=89, min_samples_split=7, min_samples_leaf=9, n_estimators=159, \n",
        "                            random_state=0),\n",
        "    XGBClassifier(n_estimators=107, learning_rate=0.33, max_depth=49, objective=\"multi:softprob\",  random_state=0),\n",
        "    ExtraTreesClassifier(n_estimators=72, max_depth=55, criterion= 'entropy', min_samples_split=7, min_samples_leaf=9,random_state=0),\n",
        "    BaggingClassifier(n_estimators=83,  max_features=1.0, random_state=0, bootstrap= True)\n",
        "    ]\n",
        "\n",
        "res = []\n",
        "res2 = []\n",
        "for name, clf in zip(names, classifiers):\n",
        "    clf.fit(X_train, y_train)\n",
        "    res.append(clf.predict(X_test))\n",
        "    temp = clf.predict(X_train)\n",
        "    res2.append(temp)\n",
        "    print(name, \" : \", accuracy_score(y_train, temp))\n",
        "\n",
        "# res.append(res1)"
      ],
      "execution_count": 90,
      "outputs": [
        {
          "output_type": "stream",
          "text": [
            "LogisticRegression  :  0.3440643863179074\n",
            "Support Vector Machine  :  0.42873910127431253\n",
            "Decision Tree  :  0.36351441985244803\n",
            "Random Forest  :  0.4500335345405768\n",
            "Gradient Boosting  :  0.36217303822937624\n",
            "XGBoost  :  0.4507042253521127\n",
            "Extra Tree  :  0.45137491616364855\n",
            "KNeighbors  :  0.4346076458752515\n",
            "Bagging  :  0.45137491616364855\n"
          ],
          "name": "stdout"
        }
      ]
    },
    {
      "cell_type": "markdown",
      "metadata": {
        "id": "8GCrcVa3Fubc",
        "colab_type": "text"
      },
      "source": [
        "# Evaluation of Model using Confusion Matrix"
      ]
    },
    {
      "cell_type": "code",
      "metadata": {
        "id": "afle99rWwDEJ",
        "colab_type": "code",
        "colab": {}
      },
      "source": [
        "#Confussion matrix plotting function\n",
        "def plot_cm (cm, classes):\n",
        "  fig, ax = plt.subplots(figsize=(10,10))\n",
        "  cmn = cm.astype('float') / cm.sum(axis=1)[:, np.newaxis]\n",
        "  sns.heatmap(cmn, annot=True, fmt='.2f', xticklabels=class_labels, yticklabels=class_labels)\n",
        "  plt.ylabel('Actual')\n",
        "  plt.xlabel('Predicted')   \n",
        "    \n",
        "class_labels=np.array(['gabapentin','oxycodone','neurontin','lyrica'],dtype=str)"
      ],
      "execution_count": 54,
      "outputs": []
    },
    {
      "cell_type": "code",
      "metadata": {
        "id": "oDyv5PzlLBPW",
        "colab_type": "code",
        "colab": {
          "base_uri": "https://localhost:8080/",
          "height": 852
        },
        "outputId": "04014ba5-5e7a-4cdf-c6f2-53e3f6b1b12c"
      },
      "source": [
        "# Confusion matrix of Support vector Machine\n",
        "cm=confusion_matrix(y_test, y_svm_pred)\n",
        "plot_cm(cm, class_labels)\n",
        "plt.title('Normilized Decision Tree Confusion Matrix')\n",
        "plt.show()\n",
        "sk_report = classification_report(digits=3, y_true=y_test, y_pred=y_svm_pred,target_names=class_labels)\n",
        "print('Support vector Machine')\n",
        "print(sk_report)\n",
        "print('ROC score of Support vector Machine is %0.2f'% (multiclass_roc_auc_score(y_test, y_svm_pred)))\n"
      ],
      "execution_count": 55,
      "outputs": [
        {
          "output_type": "display_data",
          "data": {
            "image/png": "[encoded data removed]",
            "text/plain": [
              "<Figure size 720x720 with 2 Axes>"
            ]
          },
          "metadata": {
            "tags": [],
            "needs_background": "light"
          }
        },
        {
          "output_type": "stream",
          "text": [
            "Support vector Machine\n",
            "              precision    recall  f1-score   support\n",
            "\n",
            "  gabapentin      0.351     0.266     0.303       496\n",
            "   oxycodone      0.420     0.275     0.333       498\n",
            "   neurontin      0.408     0.354     0.379       497\n",
            "      lyrica      0.395     0.679     0.499       498\n",
            "\n",
            "    accuracy                          0.394      1989\n",
            "   macro avg      0.394     0.394     0.378      1989\n",
            "weighted avg      0.394     0.394     0.379      1989\n",
            "\n",
            "ROC score of Support vector Machine is 0.60\n"
          ],
          "name": "stdout"
        }
      ]
    },
    {
      "cell_type": "code",
      "metadata": {
        "id": "3tYot8QSs1qA",
        "colab_type": "code",
        "colab": {
          "base_uri": "https://localhost:8080/",
          "height": 852
        },
        "outputId": "464258d1-1aa0-4520-803a-d55553176ff2"
      },
      "source": [
        "# Confusion matrix of Decision Tree\n",
        "cm=confusion_matrix(y_test, y_tree_pred)\n",
        "plot_cm(cm, class_labels)\n",
        "plt.title('Normilized Decision Tree Confusion Matrix')\n",
        "plt.show()\n",
        "sk_report = classification_report(digits=3, y_true=y_test, y_pred=y_tree_pred,target_names=class_labels)\n",
        "print('Decision Tree Result')\n",
        "print(sk_report)\n",
        "print('ROC score of Decision Tree is %0.2f'% (multiclass_roc_auc_score(y_test, y_tree_pred)))\n"
      ],
      "execution_count": 59,
      "outputs": [
        {
          "output_type": "display_data",
          "data": {
            "image/png": "[encoded data removed]",
            "text/plain": [
              "<Figure size 720x720 with 2 Axes>"
            ]
          },
          "metadata": {
            "tags": [],
            "needs_background": "light"
          }
        },
        {
          "output_type": "stream",
          "text": [
            "Decision Tree Result\n",
            "              precision    recall  f1-score   support\n",
            "\n",
            "  gabapentin      0.264     0.028     0.051       496\n",
            "   oxycodone      0.347     0.460     0.396       498\n",
            "   neurontin      0.395     0.163     0.231       497\n",
            "      lyrica      0.359     0.771     0.489       498\n",
            "\n",
            "    accuracy                          0.356      1989\n",
            "   macro avg      0.341     0.356     0.292      1989\n",
            "weighted avg      0.341     0.356     0.292      1989\n",
            "\n",
            "ROC score of Decision Tree is 0.57\n"
          ],
          "name": "stdout"
        }
      ]
    },
    {
      "cell_type": "code",
      "metadata": {
        "id": "n5blfOmvwDEW",
        "colab_type": "code",
        "colab": {
          "base_uri": "https://localhost:8080/",
          "height": 852
        },
        "outputId": "56252166-72af-4606-e4b8-f87dc5a948f0"
      },
      "source": [
        "# Confusion matrix of Random Forest\n",
        "cm=confusion_matrix(y_test, y_rf_pred)\n",
        "plot_cm(cm, class_labels)\n",
        "plt.title('Normilized Random Forest Confusion Matrix')\n",
        "plt.show()\n",
        "sk_report = classification_report(digits=3, y_true=y_test, y_pred=y_rf_pred,target_names=class_labels)\n",
        "print('Random Forest Result')\n",
        "print(sk_report)\n",
        "print('ROC score of Random Forest is %0.2f'% (multiclass_roc_auc_score(y_test, y_rf_pred)))\n"
      ],
      "execution_count": 61,
      "outputs": [
        {
          "output_type": "display_data",
          "data": {
            "image/png": "[encoded data removed]",
            "text/plain": [
              "<Figure size 720x720 with 2 Axes>"
            ]
          },
          "metadata": {
            "tags": [],
            "needs_background": "light"
          }
        },
        {
          "output_type": "stream",
          "text": [
            "Random Forest Result\n",
            "              precision    recall  f1-score   support\n",
            "\n",
            "  gabapentin      0.407     0.234     0.297       496\n",
            "   oxycodone      0.376     0.327     0.350       498\n",
            "   neurontin      0.394     0.348     0.370       497\n",
            "      lyrica      0.393     0.657     0.492       498\n",
            "\n",
            "    accuracy                          0.392      1989\n",
            "   macro avg      0.393     0.391     0.377      1989\n",
            "weighted avg      0.393     0.392     0.377      1989\n",
            "\n",
            "ROC score of Random Forest is 0.59\n"
          ],
          "name": "stdout"
        }
      ]
    },
    {
      "cell_type": "code",
      "metadata": {
        "id": "7ei5LX4owDEa",
        "colab_type": "code",
        "colab": {
          "base_uri": "https://localhost:8080/",
          "height": 852
        },
        "outputId": "1b7e9c7c-3425-4fb6-bcd5-e5a6742a0f86"
      },
      "source": [
        " # Confusion matrix of KNeighbors\n",
        "cm=confusion_matrix(y_test, y_knn_pred)\n",
        "plot_cm(cm, class_labels)\n",
        "plt.title('Normilized KNeighbors Confusion Matrix')\n",
        "plt.show()\n",
        "sk_report = classification_report(digits=3, y_true=y_test, y_pred=y_knn_pred,target_names=class_labels)\n",
        "print('KNeighbors Result')\n",
        "print(sk_report)\n",
        "print('ROC score of KNeighbors is %0.2f'% (multiclass_roc_auc_score(y_test, y_knn_pred)))\n"
      ],
      "execution_count": 62,
      "outputs": [
        {
          "output_type": "display_data",
          "data": {
            "image/png": "[encoded data removed]",
            "text/plain": [
              "<Figure size 720x720 with 2 Axes>"
            ]
          },
          "metadata": {
            "tags": [],
            "needs_background": "light"
          }
        },
        {
          "output_type": "stream",
          "text": [
            "KNeighbors Result\n",
            "              precision    recall  f1-score   support\n",
            "\n",
            "  gabapentin      0.283     0.383     0.326       496\n",
            "   oxycodone      0.357     0.349     0.353       498\n",
            "   neurontin      0.330     0.290     0.308       497\n",
            "      lyrica      0.439     0.347     0.388       498\n",
            "\n",
            "    accuracy                          0.342      1989\n",
            "   macro avg      0.352     0.342     0.344      1989\n",
            "weighted avg      0.352     0.342     0.344      1989\n",
            "\n",
            "ROC score of KNeighbors is 0.56\n"
          ],
          "name": "stdout"
        }
      ]
    },
    {
      "cell_type": "code",
      "metadata": {
        "id": "Ei9CoIJMwDEf",
        "colab_type": "code",
        "colab": {
          "base_uri": "https://localhost:8080/",
          "height": 852
        },
        "outputId": "0b3ee408-fb88-428e-cc94-9817d8b7f873"
      },
      "source": [
        "# Confusion matrix of Gradient Boosting\n",
        "cm=confusion_matrix(y_test, y_gbc_pred)\n",
        "plot_cm(cm, class_labels)\n",
        "plt.title('Normilized Gradient Boosting Confusion Matrix')\n",
        "plt.show()\n",
        "sk_report = classification_report(digits=3, y_true=y_test, y_pred=y_gbc_pred,target_names=class_labels)\n",
        "print('Gradient Boosting Result')\n",
        "print(sk_report)\n",
        "print('ROC score of Gradient Boosting is %0.2f'% (multiclass_roc_auc_score(y_test, y_gbc_pred)))\n"
      ],
      "execution_count": 63,
      "outputs": [
        {
          "output_type": "display_data",
          "data": {
            "image/png": "[encoded data removed]",
            "text/plain": [
              "<Figure size 720x720 with 2 Axes>"
            ]
          },
          "metadata": {
            "tags": [],
            "needs_background": "light"
          }
        },
        {
          "output_type": "stream",
          "text": [
            "Gradient Boosting Result\n",
            "              precision    recall  f1-score   support\n",
            "\n",
            "  gabapentin      0.424     0.236     0.303       496\n",
            "   oxycodone      0.385     0.331     0.356       498\n",
            "   neurontin      0.385     0.352     0.368       497\n",
            "      lyrica      0.396     0.659     0.494       498\n",
            "\n",
            "    accuracy                          0.395      1989\n",
            "   macro avg      0.397     0.394     0.380      1989\n",
            "weighted avg      0.397     0.395     0.380      1989\n",
            "\n",
            "ROC score of Gradient Boosting is 0.60\n"
          ],
          "name": "stdout"
        }
      ]
    },
    {
      "cell_type": "code",
      "metadata": {
        "id": "Le85z83jwDEm",
        "colab_type": "code",
        "colab": {
          "base_uri": "https://localhost:8080/",
          "height": 852
        },
        "outputId": "7e9dec6d-546f-4420-fe46-4483465c198b"
      },
      "source": [
        "# Confusion matrix of XGBClassifier\n",
        "cm=confusion_matrix(y_test, y_xgb_pred)\n",
        "plot_cm(cm, class_labels)\n",
        "plt.title('Normilized XGBClassifier Confusion Matrix')\n",
        "plt.show()\n",
        "sk_report = classification_report(digits=3, y_true=y_test, y_pred=y_xgb_pred,target_names=class_labels)\n",
        "print('XGBClassifier Result')\n",
        "print(sk_report)\n",
        "print('ROC score of XGBClassifier is %0.2f'% (multiclass_roc_auc_score(y_test, y_xgb_pred)))\n"
      ],
      "execution_count": 64,
      "outputs": [
        {
          "output_type": "display_data",
          "data": {
            "image/png": "[encoded data removed]",
            "text/plain": [
              "<Figure size 720x720 with 2 Axes>"
            ]
          },
          "metadata": {
            "tags": [],
            "needs_background": "light"
          }
        },
        {
          "output_type": "stream",
          "text": [
            "XGBClassifier Result\n",
            "              precision    recall  f1-score   support\n",
            "\n",
            "  gabapentin      0.416     0.244     0.307       496\n",
            "   oxycodone      0.377     0.343     0.360       498\n",
            "   neurontin      0.403     0.346     0.372       497\n",
            "      lyrica      0.397     0.653     0.494       498\n",
            "\n",
            "    accuracy                          0.397      1989\n",
            "   macro avg      0.398     0.397     0.383      1989\n",
            "weighted avg      0.398     0.397     0.383      1989\n",
            "\n",
            "ROC score of XGBClassifier is 0.60\n"
          ],
          "name": "stdout"
        }
      ]
    },
    {
      "cell_type": "code",
      "metadata": {
        "id": "HMBagLS5MoQp",
        "colab_type": "code",
        "colab": {
          "base_uri": "https://localhost:8080/",
          "height": 852
        },
        "outputId": "708da170-62d3-45ec-adae-9d5469748ad6"
      },
      "source": [
        "# Confusion matrix of ExtraTreelassifier\n",
        "cm=confusion_matrix(y_test, y_etc_pred)\n",
        "plot_cm(cm, class_labels)\n",
        "plt.title('Normilized ExtraTreelassifier Confusion Matrix')\n",
        "plt.show()\n",
        "sk_report = classification_report(digits=3, y_true=y_test, y_pred=y_etc_pred,target_names=class_labels)\n",
        "print('ExtraTreelassifier Result')\n",
        "print(sk_report)\n",
        "print('ROC score of ExtraTreelassifier is %0.2f'% (multiclass_roc_auc_score(y_test, y_etc_pred)))\n"
      ],
      "execution_count": 65,
      "outputs": [
        {
          "output_type": "display_data",
          "data": {
            "image/png": "[encoded data removed]",
            "text/plain": [
              "<Figure size 720x720 with 2 Axes>"
            ]
          },
          "metadata": {
            "tags": [],
            "needs_background": "light"
          }
        },
        {
          "output_type": "stream",
          "text": [
            "ExtraTreelassifier Result\n",
            "              precision    recall  f1-score   support\n",
            "\n",
            "  gabapentin      0.439     0.218     0.291       496\n",
            "   oxycodone      0.416     0.295     0.345       498\n",
            "   neurontin      0.369     0.447     0.404       497\n",
            "      lyrica      0.397     0.629     0.486       498\n",
            "\n",
            "    accuracy                          0.397      1989\n",
            "   macro avg      0.405     0.397     0.382      1989\n",
            "weighted avg      0.405     0.397     0.382      1989\n",
            "\n",
            "ROC score of ExtraTreelassifier is 0.60\n"
          ],
          "name": "stdout"
        }
      ]
    },
    {
      "cell_type": "code",
      "metadata": {
        "id": "Nu3jK2-1M6LR",
        "colab_type": "code",
        "colab": {
          "base_uri": "https://localhost:8080/",
          "height": 852
        },
        "outputId": "f579e39c-c70e-4626-b0cb-7952a6be93e4"
      },
      "source": [
        "# Confusion matrix of  BaggingClassifier\n",
        "cm=confusion_matrix(y_test, y_bag_pred)\n",
        "plot_cm(cm, class_labels)\n",
        "plt.title('Normilized  BaggingClassifier Confusion Matrix')\n",
        "plt.show()\n",
        "sk_report = classification_report(digits=3, y_true=y_test, y_pred=y_bag_pred,target_names=class_labels)\n",
        "print(' BaggingClassifier Result')\n",
        "print(sk_report)\n",
        "print('ROC score of  BaggingClassifier is %0.2f'% (multiclass_roc_auc_score(y_test, y_bag_pred)))\n"
      ],
      "execution_count": 66,
      "outputs": [
        {
          "output_type": "display_data",
          "data": {
            "image/png": "[encoded data removed]",
            "text/plain": [
              "<Figure size 720x720 with 2 Axes>"
            ]
          },
          "metadata": {
            "tags": [],
            "needs_background": "light"
          }
        },
        {
          "output_type": "stream",
          "text": [
            " BaggingClassifier Result\n",
            "              precision    recall  f1-score   support\n",
            "\n",
            "  gabapentin      0.381     0.242     0.296       496\n",
            "   oxycodone      0.398     0.349     0.372       498\n",
            "   neurontin      0.397     0.358     0.377       497\n",
            "      lyrica      0.402     0.637     0.493       498\n",
            "\n",
            "    accuracy                          0.397      1989\n",
            "   macro avg      0.395     0.397     0.384      1989\n",
            "weighted avg      0.395     0.397     0.384      1989\n",
            "\n",
            "ROC score of  BaggingClassifier is 0.60\n"
          ],
          "name": "stdout"
        }
      ]
    },
    {
      "cell_type": "markdown",
      "metadata": {
        "id": "DGXKmNA08d_6",
        "colab_type": "text"
      },
      "source": [
        "# Evaluation of Model using precision-recall curve"
      ]
    },
    {
      "cell_type": "code",
      "metadata": {
        "id": "dv37kUP38f4b",
        "colab_type": "code",
        "colab": {}
      },
      "source": [
        "# Create ROC Graph\n",
        "\n",
        "rf_ev, rf_evn, rf_thresholds = roc_curve(y_test, rf.predict_proba(X_test)[:,1])\n",
        "xgb_ev, xgb_evn, xgb_thresholds = roc_curve(y_test, xgb.predict_proba(X_test)[:,1])\n",
        "knn_ev, knn_evn, knn_thresholds = roc_curve(y_test, knn.predict_proba(X_test)[:,1])\n",
        "gbc_ev, gbc_evn, gbc_thresholds = roc_curve(y_test, gbc.predict_proba(X_test)[:,1])\n",
        "xgb_ev, xgb_evn, xgb_thresholds = roc_curve(y_test, xgb.predict_proba(X_test)[:,1])\n",
        "\n",
        "plt.figure()\n",
        "\n",
        "# Plot Random Forest ROC\n",
        "plt.plot(rf_ev, rf_evn, label='Random Forest (area = %0.2f)' % rf_roc_auc)\n",
        "\n",
        "# Plot KNeighbors ROC\n",
        "plt.plot(knn_ev, knn_evn, label='KNeighbors (area = %0.2f)' % knn_roc_auc)\n",
        "\n",
        "# Plot Gradient Boosting ROC\n",
        "plt.plot(gbc_ev, gbc_evn, label='Gradient Boosting (area = %0.2f)' % gbc_roc_auc)\n",
        "\n",
        "# Plot XGBClassifier ROC\n",
        "plt.plot(xbc_ev, xbc_evn, label='XGBClassifier (area = %0.2f)' % xgb_roc_auc)\n",
        "\n",
        "# Plot Base Rate ROC\n",
        "plt.plot([0,1], [0,1],label='Base Rate' 'k--')\n",
        "\n",
        "plt.xlim([0.0, 1.0])\n",
        "plt.ylim([0.0, 1.05])\n",
        "plt.xlabel('False Positive Rate')\n",
        "plt.ylabel('True Positive Rate')\n",
        "plt.title('ROC Graph')\n",
        "plt.legend(loc=\"lower right\")\n",
        "plt.show()"
      ],
      "execution_count": null,
      "outputs": []
    },
    {
      "cell_type": "code",
      "metadata": {
        "id": "Hxn09jdD3sWb",
        "colab_type": "code",
        "colab": {
          "base_uri": "https://localhost:8080/",
          "height": 387
        },
        "outputId": "93f2ab4b-6935-44e5-d307-553cd862255c"
      },
      "source": [
        "y_score_dt = etc.fit(X_train,y_train).predict_proba(X_test)[:,1]\n",
        "avg_precision = multiclass_roc_auc_score(y_test, y_score_dt)\n",
        "\n",
        "print('Average precision-recall score of Etra tree model: {0:0.2f}'.format(\n",
        "      avg_precision))\n",
        "\n",
        "# Plot Precision-Recall curve:\n",
        "###############################################################################\n",
        "precision, recall, _ = multiclass_roc_auc_score(y_test_enc, y_score_dt)\n",
        "\n",
        "sns.set_style('whitegrid')\n",
        "\n",
        "plt.step(recall, precision, color='navy', where='post',label='Precision-Recall curve')\n",
        "#plt.fill_between(recall, precision, step='post', alpha=0.2, color='navy')\n",
        "plt.title('Precision-Recall curve: Decission Tree [test set] AP={0:0.2f}'\n",
        "          .format(avg_precision))\n",
        "plt.xlabel('Recall (Sensitivity)')\n",
        "plt.ylabel('Precision (PPV)')\n",
        "plt.ylim([0.0, 1.05])\n",
        "plt.xlim([0.0, 1.0])\n",
        "plt.legend(loc='lower right')\n",
        "plt.show()"
      ],
      "execution_count": 92,
      "outputs": [
        {
          "output_type": "error",
          "ename": "ValueError",
          "evalue": "ignored",
          "traceback": [
            "\u001b[0;31m---------------------------------------------------------------------------\u001b[0m",
            "\u001b[0;31mValueError\u001b[0m                                Traceback (most recent call last)",
            "\u001b[0;32m<ipython-input-92-13c780eda95e>\u001b[0m in \u001b[0;36m<module>\u001b[0;34m()\u001b[0m\n\u001b[1;32m      1\u001b[0m \u001b[0my_score_dt\u001b[0m \u001b[0;34m=\u001b[0m \u001b[0metc\u001b[0m\u001b[0;34m.\u001b[0m\u001b[0mfit\u001b[0m\u001b[0;34m(\u001b[0m\u001b[0mX_train\u001b[0m\u001b[0;34m,\u001b[0m\u001b[0my_train\u001b[0m\u001b[0;34m)\u001b[0m\u001b[0;34m.\u001b[0m\u001b[0mpredict_proba\u001b[0m\u001b[0;34m(\u001b[0m\u001b[0mX_test\u001b[0m\u001b[0;34m)\u001b[0m\u001b[0;34m[\u001b[0m\u001b[0;34m:\u001b[0m\u001b[0;34m,\u001b[0m\u001b[0;36m1\u001b[0m\u001b[0;34m]\u001b[0m\u001b[0;34m\u001b[0m\u001b[0;34m\u001b[0m\u001b[0m\n\u001b[0;32m----> 2\u001b[0;31m \u001b[0mavg_precision\u001b[0m \u001b[0;34m=\u001b[0m \u001b[0mmulticlass_roc_auc_score\u001b[0m\u001b[0;34m(\u001b[0m\u001b[0my_test\u001b[0m\u001b[0;34m,\u001b[0m \u001b[0my_score_dt\u001b[0m\u001b[0;34m)\u001b[0m\u001b[0;34m\u001b[0m\u001b[0;34m\u001b[0m\u001b[0m\n\u001b[0m\u001b[1;32m      3\u001b[0m \u001b[0;34m\u001b[0m\u001b[0m\n\u001b[1;32m      4\u001b[0m print('Average precision-recall score of Etra tree model: {0:0.2f}'.format(\n\u001b[1;32m      5\u001b[0m       avg_precision))\n",
            "\u001b[0;32m<ipython-input-45-d30c696a47e2>\u001b[0m in \u001b[0;36mmulticlass_roc_auc_score\u001b[0;34m(y_test, y_pred, average)\u001b[0m\n\u001b[1;32m      3\u001b[0m   \u001b[0mlb\u001b[0m\u001b[0;34m.\u001b[0m\u001b[0mfit\u001b[0m\u001b[0;34m(\u001b[0m\u001b[0my_test\u001b[0m\u001b[0;34m)\u001b[0m\u001b[0;34m\u001b[0m\u001b[0;34m\u001b[0m\u001b[0m\n\u001b[1;32m      4\u001b[0m   \u001b[0my_test\u001b[0m\u001b[0;34m=\u001b[0m\u001b[0mlb\u001b[0m\u001b[0;34m.\u001b[0m\u001b[0mtransform\u001b[0m\u001b[0;34m(\u001b[0m\u001b[0my_test\u001b[0m\u001b[0;34m)\u001b[0m\u001b[0;34m\u001b[0m\u001b[0;34m\u001b[0m\u001b[0m\n\u001b[0;32m----> 5\u001b[0;31m   \u001b[0my_pred\u001b[0m\u001b[0;34m=\u001b[0m\u001b[0mlb\u001b[0m\u001b[0;34m.\u001b[0m\u001b[0mtransform\u001b[0m\u001b[0;34m(\u001b[0m\u001b[0my_pred\u001b[0m\u001b[0;34m)\u001b[0m\u001b[0;34m\u001b[0m\u001b[0;34m\u001b[0m\u001b[0m\n\u001b[0m\u001b[1;32m      6\u001b[0m   \u001b[0;32mreturn\u001b[0m \u001b[0mroc_auc_score\u001b[0m\u001b[0;34m(\u001b[0m\u001b[0my_test\u001b[0m\u001b[0;34m,\u001b[0m\u001b[0my_pred\u001b[0m\u001b[0;34m,\u001b[0m\u001b[0maverage\u001b[0m\u001b[0;34m=\u001b[0m\u001b[0maverage\u001b[0m\u001b[0;34m)\u001b[0m\u001b[0;34m\u001b[0m\u001b[0;34m\u001b[0m\u001b[0m\n",
            "\u001b[0;32m/usr/local/lib/python3.6/dist-packages/sklearn/preprocessing/_label.py\u001b[0m in \u001b[0;36mtransform\u001b[0;34m(self, y)\u001b[0m\n\u001b[1;32m    484\u001b[0m                               \u001b[0mpos_label\u001b[0m\u001b[0;34m=\u001b[0m\u001b[0mself\u001b[0m\u001b[0;34m.\u001b[0m\u001b[0mpos_label\u001b[0m\u001b[0;34m,\u001b[0m\u001b[0;34m\u001b[0m\u001b[0;34m\u001b[0m\u001b[0m\n\u001b[1;32m    485\u001b[0m                               \u001b[0mneg_label\u001b[0m\u001b[0;34m=\u001b[0m\u001b[0mself\u001b[0m\u001b[0;34m.\u001b[0m\u001b[0mneg_label\u001b[0m\u001b[0;34m,\u001b[0m\u001b[0;34m\u001b[0m\u001b[0;34m\u001b[0m\u001b[0m\n\u001b[0;32m--> 486\u001b[0;31m                               sparse_output=self.sparse_output)\n\u001b[0m\u001b[1;32m    487\u001b[0m \u001b[0;34m\u001b[0m\u001b[0m\n\u001b[1;32m    488\u001b[0m     \u001b[0;32mdef\u001b[0m \u001b[0minverse_transform\u001b[0m\u001b[0;34m(\u001b[0m\u001b[0mself\u001b[0m\u001b[0;34m,\u001b[0m \u001b[0mY\u001b[0m\u001b[0;34m,\u001b[0m \u001b[0mthreshold\u001b[0m\u001b[0;34m=\u001b[0m\u001b[0;32mNone\u001b[0m\u001b[0;34m)\u001b[0m\u001b[0;34m:\u001b[0m\u001b[0;34m\u001b[0m\u001b[0;34m\u001b[0m\u001b[0m\n",
            "\u001b[0;32m/usr/local/lib/python3.6/dist-packages/sklearn/preprocessing/_label.py\u001b[0m in \u001b[0;36mlabel_binarize\u001b[0;34m(y, classes, neg_label, pos_label, sparse_output)\u001b[0m\n\u001b[1;32m    671\u001b[0m     \u001b[0;32melse\u001b[0m\u001b[0;34m:\u001b[0m\u001b[0;34m\u001b[0m\u001b[0;34m\u001b[0m\u001b[0m\n\u001b[1;32m    672\u001b[0m         raise ValueError(\"%s target data is not supported with label \"\n\u001b[0;32m--> 673\u001b[0;31m                          \"binarization\" % y_type)\n\u001b[0m\u001b[1;32m    674\u001b[0m \u001b[0;34m\u001b[0m\u001b[0m\n\u001b[1;32m    675\u001b[0m     \u001b[0;32mif\u001b[0m \u001b[0;32mnot\u001b[0m \u001b[0msparse_output\u001b[0m\u001b[0;34m:\u001b[0m\u001b[0;34m\u001b[0m\u001b[0;34m\u001b[0m\u001b[0m\n",
            "\u001b[0;31mValueError\u001b[0m: continuous target data is not supported with label binarization"
          ]
        }
      ]
    },
    {
      "cell_type": "markdown",
      "metadata": {
        "id": "C_Sc2Owm8h7t",
        "colab_type": "text"
      },
      "source": [
        "# Practical Utilization of Model"
      ]
    },
    {
      "cell_type": "markdown",
      "metadata": {
        "id": "KPbZbsgdXFCo",
        "colab_type": "text"
      },
      "source": [
        "After modeling"
      ]
    },
    {
      "cell_type": "code",
      "metadata": {
        "id": "YtvEZfYgwDEr",
        "colab_type": "code",
        "colab": {}
      },
      "source": [
        ""
      ],
      "execution_count": null,
      "outputs": []
    },
    {
      "cell_type": "code",
      "metadata": {
        "id": "wGcUfCh0wDEv",
        "colab_type": "code",
        "colab": {}
      },
      "source": [
        "# First gather the data I need and choose the display colors\n",
        "condition = list(df['Condition'].unique().tolist());\n",
        "sex = list(df['Sex'].unique().tolist());\n",
        "age = list(df['Age'].unique().tolist());\n",
        "drug=list(df['Drug'].unique().tolist());\n",
        "\n",
        "EaseofUse = list(df['EaseofUse'].unique().tolist());\n",
        "Effectiveness = list(df['Effectiveness'].unique().tolist());\n",
        "Satisfaction = list(df['Satisfaction'].unique().tolist());\n",
        "color1 = 'red'\n",
        "color2 = 'blue'\n",
        "color3 = 'black'\n",
        "\n",
        "# This creates the initial figure.\n",
        "# Note that px.scatter generates multiple scatter plot 'traces'. Each trace contains \n",
        "# the data points associated with 1 team/season/player depending on what the property\n",
        "# of 'color' is set to.\n",
        "trace1 = px.bar(df, x='drug', y='values' color='rate')\n",
        "fig = go.FigureWidget(trace1)\n",
        "\n",
        "# Create all our drop down widgets\n",
        "filterDrop = widgets.Dropdown(\n",
        "    description='Filter:',\n",
        "    value='Condition',\n",
        "    options=['Sex', 'Age','Drug']  \n",
        ")\n",
        "conditionDrop1 = widgets.Dropdown(\n",
        "    description='Condition:',\n",
        "    value='Pain',\n",
        "    options=list(df['Condition'].unique().tolist())  \n",
        "\n",
        "sexDrop1 = widgets.Dropdown(\n",
        "    description='Sex',\n",
        "    value='Male',\n",
        "    options=list(df['Sex'].unique().tolist())  \n",
        ")\n",
        "\n",
        "ageDrop1 = widgets.Dropdown(\n",
        "    description='AgeGroup:',\n",
        "    value='0-5',\n",
        "    options=list(df['Age'].unique().tolist())  \n",
        ")\n",
        "\n",
        "\n",
        "drugDrop1 = widgets.Dropdown(\n",
        "    description='SelectDrug:',\n",
        "    value='tramadol',\n",
        "    options=list(df['Drug'].unique().tolist())  \n",
        ")\n",
        "\n",
        "\n",
        "# This will be called when the filter dropdown changes. \n",
        "def filterResponse(change):\n",
        "    # generate the new traces that are filtered by teamname, season, or player\n",
        "    tempTrace = px.bar(df, color=filterDrop.value)\n",
        "    with fig.batch_update():\n",
        "        # Delete the old traces and add the new traces in one at a time\n",
        "        fig.data = []\n",
        "        for tr in tempTrace.data:\n",
        "            fig.add_scatter(x = tr.x, y = tr.y, hoverlabel = tr.hoverlabel, hovertemplate = tr.hovertemplate, \\\n",
        "                           legendgroup = tr.legendgroup, marker = tr.marker, mode = tr.mode, name = tr.name)\n",
        "    # Call response so that it will color the markers appropriately\n",
        "    response(change)\n",
        "\n",
        "# Write dropdown function\n"
      ],
      "execution_count": null,
      "outputs": []
    },
    {
      "cell_type": "code",
      "metadata": {
        "id": "2rFHeyaFwDEz",
        "colab_type": "code",
        "colab": {}
      },
      "source": [
        ""
      ],
      "execution_count": null,
      "outputs": []
    },
    {
      "cell_type": "code",
      "metadata": {
        "id": "fPJOs618wDE2",
        "colab_type": "code",
        "colab": {}
      },
      "source": [
        ""
      ],
      "execution_count": null,
      "outputs": []
    }
  ]
}